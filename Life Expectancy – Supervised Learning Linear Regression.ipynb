{
 "cells": [
  {
   "cell_type": "markdown",
   "metadata": {
    "id": "l9UVOxSmU_om"
   },
   "source": [
    "# Life Expectancy – Supervised Learning: Linear Regression"
   ]
  },
  {
   "cell_type": "markdown",
   "metadata": {
    "id": "ZX59mdQ7VlIK"
   },
   "source": [
    "## Context \n",
    "    \n",
    "Many studies have been undertaken in the past on factors affecting life expectancy, considering demographic variables, income composition, and mortality rates. It was found that the effect of immunization and human development index was not taken into account in the past studies, and important immunizations like Hepatitis B, Polio, and Diphtheria should also be taken into account. In this case study, we will consider immunization factors, mortality factors, economic factors, social factors, and other health-related factors and use linear regression to see the effect of those factors on Life Expectancy.\n",
    "\n",
    "\n",
    "## Objective\n",
    "To analyze the data and build a linear regression model that can predict the life expectancy of the people of a country.\n",
    "\n",
    "\n",
    "## Key Questions\n",
    "\n",
    "- Does life expectancy have a positive or negative correlation with the different factors (immunization, mortality, socio-economic, etc.) taken into consideration for the countries?\n",
    "- Can we build a linear model to predict life expectancy? If yes, how accurate will the model be?\n",
    "\n",
    "\n",
    "## Data Description\n",
    "\n",
    "The dataset contains immunization factors, mortality factors, economic factors, social factors, and other health-related factors for different countries across different years.\n",
    "\n",
    "**Data Dictionary**\n",
    "\n",
    "- Country: Country\n",
    "- Year: Year\n",
    "- Status: Developed or Developing status\n",
    "- Life expectancy: Life Expectancy in years\n",
    "- Adult Mortality: Adult Mortality Rates of both sexes (probability of dying between 15 and 60 years per 1000 population)\n",
    "- Infant deaths: Number of Infant Deaths per 1000 population\n",
    "- Alcohol: Alcohol, recorded per capita (15+) consumption (in liters of pure alcohol)\n",
    "- percentage expenditure: Expenditure on health as a percentage of Gross Domestic Product per capita(%)\n",
    "- Hepatitis B: Hepatitis B (HepB) immunization coverage among 1-year-olds (%)\n",
    "- Measles: number of reported cases of Measles per 1000 population\n",
    "- BMI: Average Body Mass Index of the entire population\n",
    "- under-five deaths: Number of under-five deaths per 1000 population\n",
    "- Polio: Polio (Pol3) immunization coverage among 1-year-olds (%)\n",
    "- Total expenditure: General government expenditure on health as a percentage of total government expenditure (%)\n",
    "- Diphtheria: Diphtheria tetanus toxoid and pertussis (DTP3) immunization coverage among 1-year-olds (%)\n",
    "- HIV/AIDS: Deaths per 1000 live births due to HIV/AIDS (0-4 years)\n",
    "- GDP: Gross Domestic Product per capita (in USD)\n",
    "- Population: Population of the country\n",
    "- thinness  1-19 years: Prevalence of thinness among children and adolescents for Age 10 to 19 (% )\n",
    "- thinness 5-9 years: Prevalence of thinness among children for Age 5 to 9(%)\n",
    "- Income composition of resources: Human Development Index in terms of income composition of resources (index ranging from 0 to 1)\n",
    "- Schooling: Number of years of schooling"
   ]
  },
  {
   "cell_type": "markdown",
   "metadata": {},
   "source": [
    "### Importing libraries"
   ]
  },
  {
   "cell_type": "code",
   "execution_count": 1,
   "metadata": {
    "colab": {
     "base_uri": "https://localhost:8080/",
     "height": 71
    },
    "id": "I1OMxQ78FIOG",
    "outputId": "62c46aa7-39df-4aba-8d66-6cc2d4c0dfe8"
   },
   "outputs": [],
   "source": [
    "import numpy as np\n",
    "import pandas as pd\n",
    "\n",
    "import matplotlib.pyplot as plt\n",
    "import seaborn as sns\n",
    "\n",
    "from sklearn.model_selection import train_test_split\n",
    "\n",
    "import statsmodels.api as sm\n",
    "\n",
    "from sklearn.metrics import mean_absolute_error, mean_squared_error, r2_score"
   ]
  },
  {
   "cell_type": "markdown",
   "metadata": {},
   "source": [
    "### Data overview"
   ]
  },
  {
   "cell_type": "code",
   "execution_count": 2,
   "metadata": {
    "id": "s1w7UuCkFTtD",
    "outputId": "22d8d542-867c-4076-8f12-a4208975b05e"
   },
   "outputs": [
    {
     "data": {
      "text/html": [
       "<div>\n",
       "<style scoped>\n",
       "    .dataframe tbody tr th:only-of-type {\n",
       "        vertical-align: middle;\n",
       "    }\n",
       "\n",
       "    .dataframe tbody tr th {\n",
       "        vertical-align: top;\n",
       "    }\n",
       "\n",
       "    .dataframe thead th {\n",
       "        text-align: right;\n",
       "    }\n",
       "</style>\n",
       "<table border=\"1\" class=\"dataframe\">\n",
       "  <thead>\n",
       "    <tr style=\"text-align: right;\">\n",
       "      <th></th>\n",
       "      <th>Country</th>\n",
       "      <th>Year</th>\n",
       "      <th>Status</th>\n",
       "      <th>Life expectancy</th>\n",
       "      <th>Adult Mortality</th>\n",
       "      <th>Infant deaths</th>\n",
       "      <th>Alcohol</th>\n",
       "      <th>Percentage expenditure</th>\n",
       "      <th>Hepatitis B</th>\n",
       "      <th>Measles</th>\n",
       "      <th>...</th>\n",
       "      <th>Polio</th>\n",
       "      <th>Total expenditure</th>\n",
       "      <th>Diphtheria</th>\n",
       "      <th>HIV/AIDS</th>\n",
       "      <th>GDP</th>\n",
       "      <th>Population</th>\n",
       "      <th>Thinness  1-19 years</th>\n",
       "      <th>Thinness 5-9 years</th>\n",
       "      <th>Income composition of resources</th>\n",
       "      <th>Schooling</th>\n",
       "    </tr>\n",
       "  </thead>\n",
       "  <tbody>\n",
       "    <tr>\n",
       "      <th>0</th>\n",
       "      <td>Afghanistan</td>\n",
       "      <td>2015</td>\n",
       "      <td>Developing</td>\n",
       "      <td>65.0</td>\n",
       "      <td>263.0</td>\n",
       "      <td>62</td>\n",
       "      <td>0.01</td>\n",
       "      <td>71.279624</td>\n",
       "      <td>65.0</td>\n",
       "      <td>1154</td>\n",
       "      <td>...</td>\n",
       "      <td>6.0</td>\n",
       "      <td>8.16</td>\n",
       "      <td>65.0</td>\n",
       "      <td>0.1</td>\n",
       "      <td>584.259210</td>\n",
       "      <td>33736494.0</td>\n",
       "      <td>17.2</td>\n",
       "      <td>17.3</td>\n",
       "      <td>0.479</td>\n",
       "      <td>10.1</td>\n",
       "    </tr>\n",
       "    <tr>\n",
       "      <th>1</th>\n",
       "      <td>Afghanistan</td>\n",
       "      <td>2014</td>\n",
       "      <td>Developing</td>\n",
       "      <td>59.9</td>\n",
       "      <td>271.0</td>\n",
       "      <td>64</td>\n",
       "      <td>0.01</td>\n",
       "      <td>73.523582</td>\n",
       "      <td>62.0</td>\n",
       "      <td>492</td>\n",
       "      <td>...</td>\n",
       "      <td>58.0</td>\n",
       "      <td>8.18</td>\n",
       "      <td>62.0</td>\n",
       "      <td>0.1</td>\n",
       "      <td>612.696514</td>\n",
       "      <td>327582.0</td>\n",
       "      <td>17.5</td>\n",
       "      <td>17.5</td>\n",
       "      <td>0.476</td>\n",
       "      <td>10.0</td>\n",
       "    </tr>\n",
       "    <tr>\n",
       "      <th>2</th>\n",
       "      <td>Afghanistan</td>\n",
       "      <td>2013</td>\n",
       "      <td>Developing</td>\n",
       "      <td>59.9</td>\n",
       "      <td>268.0</td>\n",
       "      <td>66</td>\n",
       "      <td>0.01</td>\n",
       "      <td>73.219243</td>\n",
       "      <td>64.0</td>\n",
       "      <td>430</td>\n",
       "      <td>...</td>\n",
       "      <td>62.0</td>\n",
       "      <td>8.13</td>\n",
       "      <td>64.0</td>\n",
       "      <td>0.1</td>\n",
       "      <td>631.744976</td>\n",
       "      <td>31731688.0</td>\n",
       "      <td>17.7</td>\n",
       "      <td>17.7</td>\n",
       "      <td>0.470</td>\n",
       "      <td>9.9</td>\n",
       "    </tr>\n",
       "    <tr>\n",
       "      <th>3</th>\n",
       "      <td>Afghanistan</td>\n",
       "      <td>2012</td>\n",
       "      <td>Developing</td>\n",
       "      <td>59.5</td>\n",
       "      <td>272.0</td>\n",
       "      <td>69</td>\n",
       "      <td>0.01</td>\n",
       "      <td>78.184215</td>\n",
       "      <td>67.0</td>\n",
       "      <td>2787</td>\n",
       "      <td>...</td>\n",
       "      <td>67.0</td>\n",
       "      <td>8.52</td>\n",
       "      <td>67.0</td>\n",
       "      <td>0.1</td>\n",
       "      <td>669.959000</td>\n",
       "      <td>3696958.0</td>\n",
       "      <td>17.9</td>\n",
       "      <td>18.0</td>\n",
       "      <td>0.463</td>\n",
       "      <td>9.8</td>\n",
       "    </tr>\n",
       "    <tr>\n",
       "      <th>4</th>\n",
       "      <td>Afghanistan</td>\n",
       "      <td>2011</td>\n",
       "      <td>Developing</td>\n",
       "      <td>59.2</td>\n",
       "      <td>275.0</td>\n",
       "      <td>71</td>\n",
       "      <td>0.01</td>\n",
       "      <td>7.097109</td>\n",
       "      <td>68.0</td>\n",
       "      <td>3013</td>\n",
       "      <td>...</td>\n",
       "      <td>68.0</td>\n",
       "      <td>7.87</td>\n",
       "      <td>68.0</td>\n",
       "      <td>0.1</td>\n",
       "      <td>63.537231</td>\n",
       "      <td>2978599.0</td>\n",
       "      <td>18.2</td>\n",
       "      <td>18.2</td>\n",
       "      <td>0.454</td>\n",
       "      <td>9.5</td>\n",
       "    </tr>\n",
       "    <tr>\n",
       "      <th>...</th>\n",
       "      <td>...</td>\n",
       "      <td>...</td>\n",
       "      <td>...</td>\n",
       "      <td>...</td>\n",
       "      <td>...</td>\n",
       "      <td>...</td>\n",
       "      <td>...</td>\n",
       "      <td>...</td>\n",
       "      <td>...</td>\n",
       "      <td>...</td>\n",
       "      <td>...</td>\n",
       "      <td>...</td>\n",
       "      <td>...</td>\n",
       "      <td>...</td>\n",
       "      <td>...</td>\n",
       "      <td>...</td>\n",
       "      <td>...</td>\n",
       "      <td>...</td>\n",
       "      <td>...</td>\n",
       "      <td>...</td>\n",
       "      <td>...</td>\n",
       "    </tr>\n",
       "    <tr>\n",
       "      <th>2933</th>\n",
       "      <td>Zimbabwe</td>\n",
       "      <td>2004</td>\n",
       "      <td>Developing</td>\n",
       "      <td>44.3</td>\n",
       "      <td>723.0</td>\n",
       "      <td>27</td>\n",
       "      <td>4.36</td>\n",
       "      <td>0.000000</td>\n",
       "      <td>68.0</td>\n",
       "      <td>31</td>\n",
       "      <td>...</td>\n",
       "      <td>67.0</td>\n",
       "      <td>7.13</td>\n",
       "      <td>65.0</td>\n",
       "      <td>33.6</td>\n",
       "      <td>454.366654</td>\n",
       "      <td>12777511.0</td>\n",
       "      <td>9.4</td>\n",
       "      <td>9.4</td>\n",
       "      <td>0.407</td>\n",
       "      <td>9.2</td>\n",
       "    </tr>\n",
       "    <tr>\n",
       "      <th>2934</th>\n",
       "      <td>Zimbabwe</td>\n",
       "      <td>2003</td>\n",
       "      <td>Developing</td>\n",
       "      <td>44.5</td>\n",
       "      <td>715.0</td>\n",
       "      <td>26</td>\n",
       "      <td>4.06</td>\n",
       "      <td>0.000000</td>\n",
       "      <td>7.0</td>\n",
       "      <td>998</td>\n",
       "      <td>...</td>\n",
       "      <td>7.0</td>\n",
       "      <td>6.52</td>\n",
       "      <td>68.0</td>\n",
       "      <td>36.7</td>\n",
       "      <td>453.351155</td>\n",
       "      <td>12633897.0</td>\n",
       "      <td>9.8</td>\n",
       "      <td>9.9</td>\n",
       "      <td>0.418</td>\n",
       "      <td>9.5</td>\n",
       "    </tr>\n",
       "    <tr>\n",
       "      <th>2935</th>\n",
       "      <td>Zimbabwe</td>\n",
       "      <td>2002</td>\n",
       "      <td>Developing</td>\n",
       "      <td>44.8</td>\n",
       "      <td>73.0</td>\n",
       "      <td>25</td>\n",
       "      <td>4.43</td>\n",
       "      <td>0.000000</td>\n",
       "      <td>73.0</td>\n",
       "      <td>304</td>\n",
       "      <td>...</td>\n",
       "      <td>73.0</td>\n",
       "      <td>6.53</td>\n",
       "      <td>71.0</td>\n",
       "      <td>39.8</td>\n",
       "      <td>57.348340</td>\n",
       "      <td>125525.0</td>\n",
       "      <td>1.2</td>\n",
       "      <td>1.3</td>\n",
       "      <td>0.427</td>\n",
       "      <td>10.0</td>\n",
       "    </tr>\n",
       "    <tr>\n",
       "      <th>2936</th>\n",
       "      <td>Zimbabwe</td>\n",
       "      <td>2001</td>\n",
       "      <td>Developing</td>\n",
       "      <td>45.3</td>\n",
       "      <td>686.0</td>\n",
       "      <td>25</td>\n",
       "      <td>1.72</td>\n",
       "      <td>0.000000</td>\n",
       "      <td>76.0</td>\n",
       "      <td>529</td>\n",
       "      <td>...</td>\n",
       "      <td>76.0</td>\n",
       "      <td>6.16</td>\n",
       "      <td>75.0</td>\n",
       "      <td>42.1</td>\n",
       "      <td>548.587312</td>\n",
       "      <td>12366165.0</td>\n",
       "      <td>1.6</td>\n",
       "      <td>1.7</td>\n",
       "      <td>0.427</td>\n",
       "      <td>9.8</td>\n",
       "    </tr>\n",
       "    <tr>\n",
       "      <th>2937</th>\n",
       "      <td>Zimbabwe</td>\n",
       "      <td>2000</td>\n",
       "      <td>Developing</td>\n",
       "      <td>46.0</td>\n",
       "      <td>665.0</td>\n",
       "      <td>24</td>\n",
       "      <td>1.68</td>\n",
       "      <td>0.000000</td>\n",
       "      <td>79.0</td>\n",
       "      <td>1483</td>\n",
       "      <td>...</td>\n",
       "      <td>78.0</td>\n",
       "      <td>7.10</td>\n",
       "      <td>78.0</td>\n",
       "      <td>43.5</td>\n",
       "      <td>547.358878</td>\n",
       "      <td>12222251.0</td>\n",
       "      <td>11.0</td>\n",
       "      <td>11.2</td>\n",
       "      <td>0.434</td>\n",
       "      <td>9.8</td>\n",
       "    </tr>\n",
       "  </tbody>\n",
       "</table>\n",
       "<p>2938 rows × 22 columns</p>\n",
       "</div>"
      ],
      "text/plain": [
       "          Country  Year      Status  Life expectancy  Adult Mortality  \\\n",
       "0     Afghanistan  2015  Developing             65.0            263.0   \n",
       "1     Afghanistan  2014  Developing             59.9            271.0   \n",
       "2     Afghanistan  2013  Developing             59.9            268.0   \n",
       "3     Afghanistan  2012  Developing             59.5            272.0   \n",
       "4     Afghanistan  2011  Developing             59.2            275.0   \n",
       "...           ...   ...         ...              ...              ...   \n",
       "2933     Zimbabwe  2004  Developing             44.3            723.0   \n",
       "2934     Zimbabwe  2003  Developing             44.5            715.0   \n",
       "2935     Zimbabwe  2002  Developing             44.8             73.0   \n",
       "2936     Zimbabwe  2001  Developing             45.3            686.0   \n",
       "2937     Zimbabwe  2000  Developing             46.0            665.0   \n",
       "\n",
       "      Infant deaths  Alcohol  Percentage expenditure  Hepatitis B  Measles  \\\n",
       "0                62     0.01               71.279624         65.0     1154   \n",
       "1                64     0.01               73.523582         62.0      492   \n",
       "2                66     0.01               73.219243         64.0      430   \n",
       "3                69     0.01               78.184215         67.0     2787   \n",
       "4                71     0.01                7.097109         68.0     3013   \n",
       "...             ...      ...                     ...          ...      ...   \n",
       "2933             27     4.36                0.000000         68.0       31   \n",
       "2934             26     4.06                0.000000          7.0      998   \n",
       "2935             25     4.43                0.000000         73.0      304   \n",
       "2936             25     1.72                0.000000         76.0      529   \n",
       "2937             24     1.68                0.000000         79.0     1483   \n",
       "\n",
       "      ...  Polio  Total expenditure  Diphtheria  HIV/AIDS         GDP  \\\n",
       "0     ...    6.0               8.16        65.0       0.1  584.259210   \n",
       "1     ...   58.0               8.18        62.0       0.1  612.696514   \n",
       "2     ...   62.0               8.13        64.0       0.1  631.744976   \n",
       "3     ...   67.0               8.52        67.0       0.1  669.959000   \n",
       "4     ...   68.0               7.87        68.0       0.1   63.537231   \n",
       "...   ...    ...                ...         ...       ...         ...   \n",
       "2933  ...   67.0               7.13        65.0      33.6  454.366654   \n",
       "2934  ...    7.0               6.52        68.0      36.7  453.351155   \n",
       "2935  ...   73.0               6.53        71.0      39.8   57.348340   \n",
       "2936  ...   76.0               6.16        75.0      42.1  548.587312   \n",
       "2937  ...   78.0               7.10        78.0      43.5  547.358878   \n",
       "\n",
       "      Population  Thinness  1-19 years  Thinness 5-9 years  \\\n",
       "0     33736494.0                  17.2                17.3   \n",
       "1       327582.0                  17.5                17.5   \n",
       "2     31731688.0                  17.7                17.7   \n",
       "3      3696958.0                  17.9                18.0   \n",
       "4      2978599.0                  18.2                18.2   \n",
       "...          ...                   ...                 ...   \n",
       "2933  12777511.0                   9.4                 9.4   \n",
       "2934  12633897.0                   9.8                 9.9   \n",
       "2935    125525.0                   1.2                 1.3   \n",
       "2936  12366165.0                   1.6                 1.7   \n",
       "2937  12222251.0                  11.0                11.2   \n",
       "\n",
       "      Income composition of resources  Schooling  \n",
       "0                               0.479       10.1  \n",
       "1                               0.476       10.0  \n",
       "2                               0.470        9.9  \n",
       "3                               0.463        9.8  \n",
       "4                               0.454        9.5  \n",
       "...                               ...        ...  \n",
       "2933                            0.407        9.2  \n",
       "2934                            0.418        9.5  \n",
       "2935                            0.427       10.0  \n",
       "2936                            0.427        9.8  \n",
       "2937                            0.434        9.8  \n",
       "\n",
       "[2938 rows x 22 columns]"
      ]
     },
     "execution_count": 2,
     "metadata": {},
     "output_type": "execute_result"
    }
   ],
   "source": [
    "data = pd.read_csv(\"Life+Expectancy+Data.csv\")\n",
    "data"
   ]
  },
  {
   "cell_type": "code",
   "execution_count": 3,
   "metadata": {
    "colab": {
     "base_uri": "https://localhost:8080/",
     "height": 510
    },
    "id": "SCmj9LyLFZ_W",
    "outputId": "66e81519-c35f-4509-f9f2-4844ed3fad32"
   },
   "outputs": [
    {
     "name": "stdout",
     "output_type": "stream",
     "text": [
      "<class 'pandas.core.frame.DataFrame'>\n",
      "RangeIndex: 2938 entries, 0 to 2937\n",
      "Data columns (total 22 columns):\n",
      " #   Column                           Non-Null Count  Dtype  \n",
      "---  ------                           --------------  -----  \n",
      " 0   Country                          2938 non-null   object \n",
      " 1   Year                             2938 non-null   int64  \n",
      " 2   Status                           2938 non-null   object \n",
      " 3   Life expectancy                  2928 non-null   float64\n",
      " 4   Adult Mortality                  2928 non-null   float64\n",
      " 5   Infant deaths                    2938 non-null   int64  \n",
      " 6   Alcohol                          2744 non-null   float64\n",
      " 7   Percentage expenditure           2938 non-null   float64\n",
      " 8   Hepatitis B                      2385 non-null   float64\n",
      " 9   Measles                          2938 non-null   int64  \n",
      " 10  BMI                              2904 non-null   float64\n",
      " 11  Under-five deaths                2938 non-null   int64  \n",
      " 12  Polio                            2919 non-null   float64\n",
      " 13  Total expenditure                2712 non-null   float64\n",
      " 14  Diphtheria                       2919 non-null   float64\n",
      " 15  HIV/AIDS                         2938 non-null   float64\n",
      " 16  GDP                              2490 non-null   float64\n",
      " 17  Population                       2286 non-null   float64\n",
      " 18  Thinness  1-19 years             2904 non-null   float64\n",
      " 19  Thinness 5-9 years               2904 non-null   float64\n",
      " 20  Income composition of resources  2771 non-null   float64\n",
      " 21  Schooling                        2775 non-null   float64\n",
      "dtypes: float64(16), int64(4), object(2)\n",
      "memory usage: 505.1+ KB\n"
     ]
    }
   ],
   "source": [
    "data.info()"
   ]
  },
  {
   "cell_type": "markdown",
   "metadata": {
    "id": "0hjxsQxkZvz8"
   },
   "source": [
    "- There are a couple of columns that are object that should be converted to category.\n",
    "- We have missing values in the data."
   ]
  },
  {
   "cell_type": "code",
   "execution_count": 4,
   "metadata": {},
   "outputs": [
    {
     "data": {
      "text/html": [
       "<div>\n",
       "<style scoped>\n",
       "    .dataframe tbody tr th:only-of-type {\n",
       "        vertical-align: middle;\n",
       "    }\n",
       "\n",
       "    .dataframe tbody tr th {\n",
       "        vertical-align: top;\n",
       "    }\n",
       "\n",
       "    .dataframe thead th {\n",
       "        text-align: right;\n",
       "    }\n",
       "</style>\n",
       "<table border=\"1\" class=\"dataframe\">\n",
       "  <thead>\n",
       "    <tr style=\"text-align: right;\">\n",
       "      <th></th>\n",
       "      <th>count</th>\n",
       "      <th>unique</th>\n",
       "      <th>top</th>\n",
       "      <th>freq</th>\n",
       "      <th>mean</th>\n",
       "      <th>std</th>\n",
       "      <th>min</th>\n",
       "      <th>25%</th>\n",
       "      <th>50%</th>\n",
       "      <th>75%</th>\n",
       "      <th>max</th>\n",
       "    </tr>\n",
       "  </thead>\n",
       "  <tbody>\n",
       "    <tr>\n",
       "      <th>Country</th>\n",
       "      <td>2938</td>\n",
       "      <td>193</td>\n",
       "      <td>Canada</td>\n",
       "      <td>16</td>\n",
       "      <td>NaN</td>\n",
       "      <td>NaN</td>\n",
       "      <td>NaN</td>\n",
       "      <td>NaN</td>\n",
       "      <td>NaN</td>\n",
       "      <td>NaN</td>\n",
       "      <td>NaN</td>\n",
       "    </tr>\n",
       "    <tr>\n",
       "      <th>Year</th>\n",
       "      <td>2938.0</td>\n",
       "      <td>NaN</td>\n",
       "      <td>NaN</td>\n",
       "      <td>NaN</td>\n",
       "      <td>2007.51872</td>\n",
       "      <td>4.613841</td>\n",
       "      <td>2000.0</td>\n",
       "      <td>2004.0</td>\n",
       "      <td>2008.0</td>\n",
       "      <td>2012.0</td>\n",
       "      <td>2015.0</td>\n",
       "    </tr>\n",
       "    <tr>\n",
       "      <th>Status</th>\n",
       "      <td>2938</td>\n",
       "      <td>2</td>\n",
       "      <td>Developing</td>\n",
       "      <td>2426</td>\n",
       "      <td>NaN</td>\n",
       "      <td>NaN</td>\n",
       "      <td>NaN</td>\n",
       "      <td>NaN</td>\n",
       "      <td>NaN</td>\n",
       "      <td>NaN</td>\n",
       "      <td>NaN</td>\n",
       "    </tr>\n",
       "    <tr>\n",
       "      <th>Life expectancy</th>\n",
       "      <td>2928.0</td>\n",
       "      <td>NaN</td>\n",
       "      <td>NaN</td>\n",
       "      <td>NaN</td>\n",
       "      <td>69.224932</td>\n",
       "      <td>9.523867</td>\n",
       "      <td>36.3</td>\n",
       "      <td>63.1</td>\n",
       "      <td>72.1</td>\n",
       "      <td>75.7</td>\n",
       "      <td>89.0</td>\n",
       "    </tr>\n",
       "    <tr>\n",
       "      <th>Adult Mortality</th>\n",
       "      <td>2928.0</td>\n",
       "      <td>NaN</td>\n",
       "      <td>NaN</td>\n",
       "      <td>NaN</td>\n",
       "      <td>164.796448</td>\n",
       "      <td>124.292079</td>\n",
       "      <td>1.0</td>\n",
       "      <td>74.0</td>\n",
       "      <td>144.0</td>\n",
       "      <td>228.0</td>\n",
       "      <td>723.0</td>\n",
       "    </tr>\n",
       "    <tr>\n",
       "      <th>Infant deaths</th>\n",
       "      <td>2938.0</td>\n",
       "      <td>NaN</td>\n",
       "      <td>NaN</td>\n",
       "      <td>NaN</td>\n",
       "      <td>30.303948</td>\n",
       "      <td>117.926501</td>\n",
       "      <td>0.0</td>\n",
       "      <td>0.0</td>\n",
       "      <td>3.0</td>\n",
       "      <td>22.0</td>\n",
       "      <td>1800.0</td>\n",
       "    </tr>\n",
       "    <tr>\n",
       "      <th>Alcohol</th>\n",
       "      <td>2744.0</td>\n",
       "      <td>NaN</td>\n",
       "      <td>NaN</td>\n",
       "      <td>NaN</td>\n",
       "      <td>4.602861</td>\n",
       "      <td>4.052413</td>\n",
       "      <td>0.01</td>\n",
       "      <td>0.8775</td>\n",
       "      <td>3.755</td>\n",
       "      <td>7.7025</td>\n",
       "      <td>17.87</td>\n",
       "    </tr>\n",
       "    <tr>\n",
       "      <th>Percentage expenditure</th>\n",
       "      <td>2938.0</td>\n",
       "      <td>NaN</td>\n",
       "      <td>NaN</td>\n",
       "      <td>NaN</td>\n",
       "      <td>738.251295</td>\n",
       "      <td>1987.914858</td>\n",
       "      <td>0.0</td>\n",
       "      <td>4.685343</td>\n",
       "      <td>64.912906</td>\n",
       "      <td>441.534144</td>\n",
       "      <td>19479.91161</td>\n",
       "    </tr>\n",
       "    <tr>\n",
       "      <th>Hepatitis B</th>\n",
       "      <td>2385.0</td>\n",
       "      <td>NaN</td>\n",
       "      <td>NaN</td>\n",
       "      <td>NaN</td>\n",
       "      <td>80.940461</td>\n",
       "      <td>25.070016</td>\n",
       "      <td>1.0</td>\n",
       "      <td>77.0</td>\n",
       "      <td>92.0</td>\n",
       "      <td>97.0</td>\n",
       "      <td>99.0</td>\n",
       "    </tr>\n",
       "    <tr>\n",
       "      <th>Measles</th>\n",
       "      <td>2938.0</td>\n",
       "      <td>NaN</td>\n",
       "      <td>NaN</td>\n",
       "      <td>NaN</td>\n",
       "      <td>2419.59224</td>\n",
       "      <td>11467.272489</td>\n",
       "      <td>0.0</td>\n",
       "      <td>0.0</td>\n",
       "      <td>17.0</td>\n",
       "      <td>360.25</td>\n",
       "      <td>212183.0</td>\n",
       "    </tr>\n",
       "    <tr>\n",
       "      <th>BMI</th>\n",
       "      <td>2904.0</td>\n",
       "      <td>NaN</td>\n",
       "      <td>NaN</td>\n",
       "      <td>NaN</td>\n",
       "      <td>38.321247</td>\n",
       "      <td>20.044034</td>\n",
       "      <td>1.0</td>\n",
       "      <td>19.3</td>\n",
       "      <td>43.5</td>\n",
       "      <td>56.2</td>\n",
       "      <td>87.3</td>\n",
       "    </tr>\n",
       "    <tr>\n",
       "      <th>Under-five deaths</th>\n",
       "      <td>2938.0</td>\n",
       "      <td>NaN</td>\n",
       "      <td>NaN</td>\n",
       "      <td>NaN</td>\n",
       "      <td>42.035739</td>\n",
       "      <td>160.445548</td>\n",
       "      <td>0.0</td>\n",
       "      <td>0.0</td>\n",
       "      <td>4.0</td>\n",
       "      <td>28.0</td>\n",
       "      <td>2500.0</td>\n",
       "    </tr>\n",
       "    <tr>\n",
       "      <th>Polio</th>\n",
       "      <td>2919.0</td>\n",
       "      <td>NaN</td>\n",
       "      <td>NaN</td>\n",
       "      <td>NaN</td>\n",
       "      <td>82.550188</td>\n",
       "      <td>23.428046</td>\n",
       "      <td>3.0</td>\n",
       "      <td>78.0</td>\n",
       "      <td>93.0</td>\n",
       "      <td>97.0</td>\n",
       "      <td>99.0</td>\n",
       "    </tr>\n",
       "    <tr>\n",
       "      <th>Total expenditure</th>\n",
       "      <td>2712.0</td>\n",
       "      <td>NaN</td>\n",
       "      <td>NaN</td>\n",
       "      <td>NaN</td>\n",
       "      <td>5.93819</td>\n",
       "      <td>2.49832</td>\n",
       "      <td>0.37</td>\n",
       "      <td>4.26</td>\n",
       "      <td>5.755</td>\n",
       "      <td>7.4925</td>\n",
       "      <td>17.6</td>\n",
       "    </tr>\n",
       "    <tr>\n",
       "      <th>Diphtheria</th>\n",
       "      <td>2919.0</td>\n",
       "      <td>NaN</td>\n",
       "      <td>NaN</td>\n",
       "      <td>NaN</td>\n",
       "      <td>82.324084</td>\n",
       "      <td>23.716912</td>\n",
       "      <td>2.0</td>\n",
       "      <td>78.0</td>\n",
       "      <td>93.0</td>\n",
       "      <td>97.0</td>\n",
       "      <td>99.0</td>\n",
       "    </tr>\n",
       "    <tr>\n",
       "      <th>HIV/AIDS</th>\n",
       "      <td>2938.0</td>\n",
       "      <td>NaN</td>\n",
       "      <td>NaN</td>\n",
       "      <td>NaN</td>\n",
       "      <td>1.742103</td>\n",
       "      <td>5.077785</td>\n",
       "      <td>0.1</td>\n",
       "      <td>0.1</td>\n",
       "      <td>0.1</td>\n",
       "      <td>0.8</td>\n",
       "      <td>50.6</td>\n",
       "    </tr>\n",
       "    <tr>\n",
       "      <th>GDP</th>\n",
       "      <td>2490.0</td>\n",
       "      <td>NaN</td>\n",
       "      <td>NaN</td>\n",
       "      <td>NaN</td>\n",
       "      <td>7483.158469</td>\n",
       "      <td>14270.169342</td>\n",
       "      <td>1.68135</td>\n",
       "      <td>463.935626</td>\n",
       "      <td>1766.947595</td>\n",
       "      <td>5910.806335</td>\n",
       "      <td>119172.7418</td>\n",
       "    </tr>\n",
       "    <tr>\n",
       "      <th>Population</th>\n",
       "      <td>2286.0</td>\n",
       "      <td>NaN</td>\n",
       "      <td>NaN</td>\n",
       "      <td>NaN</td>\n",
       "      <td>12753375.120052</td>\n",
       "      <td>61012096.508428</td>\n",
       "      <td>34.0</td>\n",
       "      <td>195793.25</td>\n",
       "      <td>1386542.0</td>\n",
       "      <td>7420359.0</td>\n",
       "      <td>1293859294.0</td>\n",
       "    </tr>\n",
       "    <tr>\n",
       "      <th>Thinness  1-19 years</th>\n",
       "      <td>2904.0</td>\n",
       "      <td>NaN</td>\n",
       "      <td>NaN</td>\n",
       "      <td>NaN</td>\n",
       "      <td>4.839704</td>\n",
       "      <td>4.420195</td>\n",
       "      <td>0.1</td>\n",
       "      <td>1.6</td>\n",
       "      <td>3.3</td>\n",
       "      <td>7.2</td>\n",
       "      <td>27.7</td>\n",
       "    </tr>\n",
       "    <tr>\n",
       "      <th>Thinness 5-9 years</th>\n",
       "      <td>2904.0</td>\n",
       "      <td>NaN</td>\n",
       "      <td>NaN</td>\n",
       "      <td>NaN</td>\n",
       "      <td>4.870317</td>\n",
       "      <td>4.508882</td>\n",
       "      <td>0.1</td>\n",
       "      <td>1.5</td>\n",
       "      <td>3.3</td>\n",
       "      <td>7.2</td>\n",
       "      <td>28.6</td>\n",
       "    </tr>\n",
       "    <tr>\n",
       "      <th>Income composition of resources</th>\n",
       "      <td>2771.0</td>\n",
       "      <td>NaN</td>\n",
       "      <td>NaN</td>\n",
       "      <td>NaN</td>\n",
       "      <td>0.627551</td>\n",
       "      <td>0.210904</td>\n",
       "      <td>0.0</td>\n",
       "      <td>0.493</td>\n",
       "      <td>0.677</td>\n",
       "      <td>0.779</td>\n",
       "      <td>0.948</td>\n",
       "    </tr>\n",
       "    <tr>\n",
       "      <th>Schooling</th>\n",
       "      <td>2775.0</td>\n",
       "      <td>NaN</td>\n",
       "      <td>NaN</td>\n",
       "      <td>NaN</td>\n",
       "      <td>11.992793</td>\n",
       "      <td>3.35892</td>\n",
       "      <td>0.0</td>\n",
       "      <td>10.1</td>\n",
       "      <td>12.3</td>\n",
       "      <td>14.3</td>\n",
       "      <td>20.7</td>\n",
       "    </tr>\n",
       "  </tbody>\n",
       "</table>\n",
       "</div>"
      ],
      "text/plain": [
       "                                  count unique         top  freq  \\\n",
       "Country                            2938    193      Canada    16   \n",
       "Year                             2938.0    NaN         NaN   NaN   \n",
       "Status                             2938      2  Developing  2426   \n",
       "Life expectancy                  2928.0    NaN         NaN   NaN   \n",
       "Adult Mortality                  2928.0    NaN         NaN   NaN   \n",
       "Infant deaths                    2938.0    NaN         NaN   NaN   \n",
       "Alcohol                          2744.0    NaN         NaN   NaN   \n",
       "Percentage expenditure           2938.0    NaN         NaN   NaN   \n",
       "Hepatitis B                      2385.0    NaN         NaN   NaN   \n",
       "Measles                          2938.0    NaN         NaN   NaN   \n",
       "BMI                              2904.0    NaN         NaN   NaN   \n",
       "Under-five deaths                2938.0    NaN         NaN   NaN   \n",
       "Polio                            2919.0    NaN         NaN   NaN   \n",
       "Total expenditure                2712.0    NaN         NaN   NaN   \n",
       "Diphtheria                       2919.0    NaN         NaN   NaN   \n",
       "HIV/AIDS                         2938.0    NaN         NaN   NaN   \n",
       "GDP                              2490.0    NaN         NaN   NaN   \n",
       "Population                       2286.0    NaN         NaN   NaN   \n",
       "Thinness  1-19 years             2904.0    NaN         NaN   NaN   \n",
       "Thinness 5-9 years               2904.0    NaN         NaN   NaN   \n",
       "Income composition of resources  2771.0    NaN         NaN   NaN   \n",
       "Schooling                        2775.0    NaN         NaN   NaN   \n",
       "\n",
       "                                            mean              std      min  \\\n",
       "Country                                      NaN              NaN      NaN   \n",
       "Year                                  2007.51872         4.613841   2000.0   \n",
       "Status                                       NaN              NaN      NaN   \n",
       "Life expectancy                        69.224932         9.523867     36.3   \n",
       "Adult Mortality                       164.796448       124.292079      1.0   \n",
       "Infant deaths                          30.303948       117.926501      0.0   \n",
       "Alcohol                                 4.602861         4.052413     0.01   \n",
       "Percentage expenditure                738.251295      1987.914858      0.0   \n",
       "Hepatitis B                            80.940461        25.070016      1.0   \n",
       "Measles                               2419.59224     11467.272489      0.0   \n",
       "BMI                                    38.321247        20.044034      1.0   \n",
       "Under-five deaths                      42.035739       160.445548      0.0   \n",
       "Polio                                  82.550188        23.428046      3.0   \n",
       "Total expenditure                        5.93819          2.49832     0.37   \n",
       "Diphtheria                             82.324084        23.716912      2.0   \n",
       "HIV/AIDS                                1.742103         5.077785      0.1   \n",
       "GDP                                  7483.158469     14270.169342  1.68135   \n",
       "Population                       12753375.120052  61012096.508428     34.0   \n",
       "Thinness  1-19 years                    4.839704         4.420195      0.1   \n",
       "Thinness 5-9 years                      4.870317         4.508882      0.1   \n",
       "Income composition of resources         0.627551         0.210904      0.0   \n",
       "Schooling                              11.992793          3.35892      0.0   \n",
       "\n",
       "                                        25%          50%          75%  \\\n",
       "Country                                 NaN          NaN          NaN   \n",
       "Year                                 2004.0       2008.0       2012.0   \n",
       "Status                                  NaN          NaN          NaN   \n",
       "Life expectancy                        63.1         72.1         75.7   \n",
       "Adult Mortality                        74.0        144.0        228.0   \n",
       "Infant deaths                           0.0          3.0         22.0   \n",
       "Alcohol                              0.8775        3.755       7.7025   \n",
       "Percentage expenditure             4.685343    64.912906   441.534144   \n",
       "Hepatitis B                            77.0         92.0         97.0   \n",
       "Measles                                 0.0         17.0       360.25   \n",
       "BMI                                    19.3         43.5         56.2   \n",
       "Under-five deaths                       0.0          4.0         28.0   \n",
       "Polio                                  78.0         93.0         97.0   \n",
       "Total expenditure                      4.26        5.755       7.4925   \n",
       "Diphtheria                             78.0         93.0         97.0   \n",
       "HIV/AIDS                                0.1          0.1          0.8   \n",
       "GDP                              463.935626  1766.947595  5910.806335   \n",
       "Population                        195793.25    1386542.0    7420359.0   \n",
       "Thinness  1-19 years                    1.6          3.3          7.2   \n",
       "Thinness 5-9 years                      1.5          3.3          7.2   \n",
       "Income composition of resources       0.493        0.677        0.779   \n",
       "Schooling                              10.1         12.3         14.3   \n",
       "\n",
       "                                          max  \n",
       "Country                                   NaN  \n",
       "Year                                   2015.0  \n",
       "Status                                    NaN  \n",
       "Life expectancy                          89.0  \n",
       "Adult Mortality                         723.0  \n",
       "Infant deaths                          1800.0  \n",
       "Alcohol                                 17.87  \n",
       "Percentage expenditure            19479.91161  \n",
       "Hepatitis B                              99.0  \n",
       "Measles                              212183.0  \n",
       "BMI                                      87.3  \n",
       "Under-five deaths                      2500.0  \n",
       "Polio                                    99.0  \n",
       "Total expenditure                        17.6  \n",
       "Diphtheria                               99.0  \n",
       "HIV/AIDS                                 50.6  \n",
       "GDP                               119172.7418  \n",
       "Population                       1293859294.0  \n",
       "Thinness  1-19 years                     27.7  \n",
       "Thinness 5-9 years                       28.6  \n",
       "Income composition of resources         0.948  \n",
       "Schooling                                20.7  "
      ]
     },
     "execution_count": 4,
     "metadata": {},
     "output_type": "execute_result"
    }
   ],
   "source": [
    "data.describe(include=\"all\").T"
   ]
  },
  {
   "cell_type": "markdown",
   "metadata": {},
   "source": [
    "- There are 193 countries in the dataset.\n",
    "- Majority of the countries are developing countries.\n",
    "- The average life expectancy is 69 years."
   ]
  },
  {
   "cell_type": "markdown",
   "metadata": {
    "id": "wYF-RsrNqH0E"
   },
   "source": [
    "Treat missing values\n",
    "\n",
    "- For the target variable (`Life expectancy`), we will drop the missing values.\n",
    "- For the predictor variables, we will replace the missing values in each column with its median."
   ]
  },
  {
   "cell_type": "code",
   "execution_count": 5,
   "metadata": {},
   "outputs": [],
   "source": [
    "df = data.copy()"
   ]
  },
  {
   "cell_type": "code",
   "execution_count": 6,
   "metadata": {},
   "outputs": [],
   "source": [
    "df.dropna(subset=[\"Life expectancy\"], inplace=True)"
   ]
  },
  {
   "cell_type": "code",
   "execution_count": 7,
   "metadata": {
    "id": "yezNtp2vHYr_"
   },
   "outputs": [],
   "source": [
    "medianFiller = lambda x: x.fillna(x.median())\n",
    "numeric_columns = df.select_dtypes(include=np.number).columns.tolist()\n",
    "df[numeric_columns] = df[numeric_columns].apply(medianFiller, axis=0)"
   ]
  },
  {
   "cell_type": "code",
   "execution_count": 8,
   "metadata": {
    "colab": {
     "base_uri": "https://localhost:8080/",
     "height": 408
    },
    "id": "vfN3qOpTFdg_",
    "outputId": "ab4c7804-0b1f-47ad-81b7-82e2b6053cfd"
   },
   "outputs": [
    {
     "data": {
      "text/plain": [
       "Country                            0\n",
       "Year                               0\n",
       "Status                             0\n",
       "Life expectancy                    0\n",
       "Adult Mortality                    0\n",
       "Infant deaths                      0\n",
       "Alcohol                            0\n",
       "Percentage expenditure             0\n",
       "Hepatitis B                        0\n",
       "Measles                            0\n",
       "BMI                                0\n",
       "Under-five deaths                  0\n",
       "Polio                              0\n",
       "Total expenditure                  0\n",
       "Diphtheria                         0\n",
       "HIV/AIDS                           0\n",
       "GDP                                0\n",
       "Population                         0\n",
       "Thinness  1-19 years               0\n",
       "Thinness 5-9 years                 0\n",
       "Income composition of resources    0\n",
       "Schooling                          0\n",
       "dtype: int64"
      ]
     },
     "execution_count": 8,
     "metadata": {},
     "output_type": "execute_result"
    }
   ],
   "source": [
    "df.isnull().sum()"
   ]
  },
  {
   "cell_type": "markdown",
   "metadata": {},
   "source": [
    "- All the missing values have been treated."
   ]
  },
  {
   "cell_type": "code",
   "execution_count": 9,
   "metadata": {
    "colab": {
     "base_uri": "https://localhost:8080/",
     "height": 408
    },
    "id": "vfN3qOpTFdg_",
    "outputId": "ab4c7804-0b1f-47ad-81b7-82e2b6053cfd"
   },
   "outputs": [
    {
     "data": {
      "text/plain": [
       "Country                             183\n",
       "Year                                 16\n",
       "Status                                2\n",
       "Life expectancy                     362\n",
       "Adult Mortality                     425\n",
       "Infant deaths                       209\n",
       "Alcohol                            1076\n",
       "Percentage expenditure             2323\n",
       "Hepatitis B                          87\n",
       "Measles                             958\n",
       "BMI                                 603\n",
       "Under-five deaths                   252\n",
       "Polio                                73\n",
       "Total expenditure                   816\n",
       "Diphtheria                           81\n",
       "HIV/AIDS                            200\n",
       "GDP                                2485\n",
       "Population                         2278\n",
       "Thinness  1-19 years                200\n",
       "Thinness 5-9 years                  207\n",
       "Income composition of resources     625\n",
       "Schooling                           173\n",
       "dtype: int64"
      ]
     },
     "execution_count": 9,
     "metadata": {},
     "output_type": "execute_result"
    }
   ],
   "source": [
    "df.nunique()"
   ]
  },
  {
   "cell_type": "markdown",
   "metadata": {
    "id": "rO_scYvgbb7M"
   },
   "source": [
    "- After dropping missing values, country count has dropped to 183."
   ]
  },
  {
   "cell_type": "markdown",
   "metadata": {
    "id": "TeuhzPWVbtGq"
   },
   "source": [
    "### EDA"
   ]
  },
  {
   "cell_type": "code",
   "execution_count": 10,
   "metadata": {
    "id": "rpigdSTiqH0d",
    "outputId": "dbb7fdab-7af6-4ddf-cb63-c25cc06e60b0"
   },
   "outputs": [],
   "source": [
    "# function to plot a boxplot and a histogram along the same scale.\n",
    "\n",
    "def histogram_boxplot(data, feature, figsize=(12, 7), kde=False, bins=None):\n",
    "    \"\"\"\n",
    "    Boxplot and histogram combined\n",
    "\n",
    "    data: dataframe\n",
    "    feature: dataframe column\n",
    "    figsize: size of figure (default (12,7))\n",
    "    kde: whether to the show density curve (default False)\n",
    "    bins: number of bins for histogram (default None)\n",
    "    \"\"\"\n",
    "    f2, (ax_box2, ax_hist2) = plt.subplots(\n",
    "        nrows=2,  \n",
    "        sharex=True,  # x-axis will be shared among all subplots\n",
    "        gridspec_kw={\"height_ratios\": (0.25, 0.75)},\n",
    "        figsize=figsize,\n",
    "    )  # creating the 2 subplots\n",
    "    sns.boxplot(\n",
    "        data=data, x=feature, ax=ax_box2, showmeans=True, color=\"violet\"\n",
    "    )  # boxplot will be created and a star will indicate the mean value of the column\n",
    "    sns.histplot(\n",
    "        data=data, x=feature, kde=kde, ax=ax_hist2, bins=bins, palette=\"winter\"\n",
    "    ) if bins else sns.histplot(\n",
    "        data=data, x=feature, kde=kde, ax=ax_hist2\n",
    "    )  # For histogram\n",
    "    ax_hist2.axvline(\n",
    "        data[feature].mean(), color=\"green\", linestyle=\"--\"\n",
    "    )  # Add mean to the histogram\n",
    "    ax_hist2.axvline(\n",
    "        data[feature].median(), color=\"black\", linestyle=\"-\"\n",
    "    )  # Add median to the histogram"
   ]
  },
  {
   "cell_type": "markdown",
   "metadata": {
    "id": "F-ZgoSJpqH0h"
   },
   "source": [
    "**Let's explore the dependent variable *Life expectancy***"
   ]
  },
  {
   "cell_type": "code",
   "execution_count": 11,
   "metadata": {
    "id": "-BIzl2GUqH0p",
    "outputId": "bde836d2-beae-46ef-ea21-6371535c54fe"
   },
   "outputs": [
    {
     "data": {
      "image/png": "[encoded data removed]",
      "text/plain": [
       "<Figure size 864x504 with 2 Axes>"
      ]
     },
     "metadata": {
      "needs_background": "light"
     },
     "output_type": "display_data"
    }
   ],
   "source": [
    "histogram_boxplot(df, \"Life expectancy\")"
   ]
  },
  {
   "cell_type": "markdown",
   "metadata": {
    "id": "8ryjWu4PqH0v"
   },
   "source": [
    "- Average life expectancy is 69 years. \n",
    "- There are countries with very short life expectancy where it's only 36, on the other hand, life expectancy can go up to 89 in other countries. "
   ]
  },
  {
   "cell_type": "markdown",
   "metadata": {
    "id": "eill0XvgqH0x"
   },
   "source": [
    "**Let's explore per capita alcohol consumption**"
   ]
  },
  {
   "cell_type": "code",
   "execution_count": 12,
   "metadata": {
    "id": "MEU3QuRTqH0y",
    "outputId": "dbcd4522-6045-4fb6-a87d-5a29d05913e1"
   },
   "outputs": [
    {
     "data": {
      "image/png": "[encoded data removed]",
      "text/plain": [
       "<Figure size 864x504 with 2 Axes>"
      ]
     },
     "metadata": {
      "needs_background": "light"
     },
     "output_type": "display_data"
    }
   ],
   "source": [
    "histogram_boxplot(df, \"Alcohol\")"
   ]
  },
  {
   "cell_type": "markdown",
   "metadata": {
    "id": "3ZmGU_bIqH06"
   },
   "source": [
    "- Many countries have very low alcohol consumption where it's below 0.8 liters.\n",
    "- There are outliers where average alcohol consumption is more than 16 liters.\n"
   ]
  },
  {
   "cell_type": "markdown",
   "metadata": {
    "id": "eill0XvgqH0x"
   },
   "source": [
    "**Let's explore GDP**"
   ]
  },
  {
   "cell_type": "code",
   "execution_count": 13,
   "metadata": {
    "id": "MEU3QuRTqH0y",
    "outputId": "dbcd4522-6045-4fb6-a87d-5a29d05913e1"
   },
   "outputs": [
    {
     "data": {
      "image/png": "[encoded data removed]",
      "text/plain": [
       "<Figure size 864x504 with 2 Axes>"
      ]
     },
     "metadata": {
      "needs_background": "light"
     },
     "output_type": "display_data"
    }
   ],
   "source": [
    "histogram_boxplot(df, \"GDP\")"
   ]
  },
  {
   "cell_type": "markdown",
   "metadata": {
    "id": "3ZmGU_bIqH06"
   },
   "source": [
    "- The distribution of GDP is heavily skewed to the right.\n",
    "- The outliers to the right indicate that many countries have a very high GDP."
   ]
  },
  {
   "cell_type": "code",
   "execution_count": 14,
   "metadata": {},
   "outputs": [],
   "source": [
    "# function to create labeled barplots\n",
    "\n",
    "def labeled_barplot(data, feature, perc=False, n=None):\n",
    "    \"\"\"\n",
    "    Barplot with percentage at the top\n",
    "\n",
    "    data: dataframe\n",
    "    feature: dataframe column\n",
    "    perc: whether to display percentages instead of count (default is False)\n",
    "    n: displays the top n category levels (default is None, i.e., display all levels)\n",
    "    \"\"\"\n",
    "\n",
    "    total = len(data[feature])  # length of the column\n",
    "    count = data[feature].nunique()\n",
    "    if n is None:\n",
    "        plt.figure(figsize=(count + 1, 5))\n",
    "    else:\n",
    "        plt.figure(figsize=(n + 1, 5))\n",
    "\n",
    "    plt.xticks(rotation=90, fontsize=15)\n",
    "    ax = sns.countplot(\n",
    "        data=data,\n",
    "        x=feature,\n",
    "        palette=\"Paired\",\n",
    "        order=data[feature].value_counts().index[:n].sort_values(),\n",
    "    )\n",
    "\n",
    "    for p in ax.patches:\n",
    "        if perc == True:\n",
    "            label = \"{:.1f}%\".format(\n",
    "                100 * p.get_height() / total\n",
    "            )  # percentage of each class of the category\n",
    "        else:\n",
    "            label = p.get_height()  # count of each level of the category\n",
    "\n",
    "        x = p.get_x() + p.get_width() / 2  # width of the plot\n",
    "        y = p.get_height()  # height of the plot\n",
    "\n",
    "        ax.annotate(\n",
    "            label,\n",
    "            (x, y),\n",
    "            ha=\"center\",\n",
    "            va=\"center\",\n",
    "            size=12,\n",
    "            xytext=(0, 5),\n",
    "            textcoords=\"offset points\",\n",
    "        )  # annotate the percentage\n",
    "\n",
    "    plt.show()  # show the plot"
   ]
  },
  {
   "cell_type": "code",
   "execution_count": 15,
   "metadata": {},
   "outputs": [
    {
     "data": {
      "image/png": "[encoded data removed]",
      "text/plain": [
       "<Figure size 216x360 with 1 Axes>"
      ]
     },
     "metadata": {
      "needs_background": "light"
     },
     "output_type": "display_data"
    }
   ],
   "source": [
    "labeled_barplot(df, \"Status\", perc=True)"
   ]
  },
  {
   "cell_type": "markdown",
   "metadata": {},
   "source": [
    "- More than 80% of the countries in the data are developing countries."
   ]
  },
  {
   "cell_type": "markdown",
   "metadata": {
    "id": "SPAtdDVPqH1f"
   },
   "source": [
    "**Let's look at correlations.**"
   ]
  },
  {
   "cell_type": "code",
   "execution_count": 16,
   "metadata": {
    "colab": {
     "base_uri": "https://localhost:8080/",
     "height": 374
    },
    "id": "UdoEGuzNFy5H",
    "outputId": "e53df757-8985-4b2b-ea3a-3a17bed8777f"
   },
   "outputs": [
    {
     "data": {
      "text/plain": [
       "Year                               0.170033\n",
       "Life expectancy                    1.000000\n",
       "Adult Mortality                   -0.696359\n",
       "Infant deaths                     -0.196557\n",
       "Alcohol                            0.390674\n",
       "Percentage expenditure             0.381864\n",
       "Hepatitis B                        0.171255\n",
       "Measles                           -0.157586\n",
       "BMI                                0.558888\n",
       "Under-five deaths                 -0.222529\n",
       "Polio                              0.459458\n",
       "Total expenditure                  0.209588\n",
       "Diphtheria                         0.473268\n",
       "HIV/AIDS                          -0.556556\n",
       "GDP                                0.430991\n",
       "Population                        -0.028842\n",
       "Thinness  1-19 years              -0.467859\n",
       "Thinness 5-9 years                -0.462645\n",
       "Income composition of resources    0.688591\n",
       "Schooling                          0.717314\n",
       "Name: Life expectancy, dtype: float64"
      ]
     },
     "execution_count": 16,
     "metadata": {},
     "output_type": "execute_result"
    }
   ],
   "source": [
    "df[df.columns[:]].corr()[\"Life expectancy\"][:]"
   ]
  },
  {
   "cell_type": "code",
   "execution_count": 17,
   "metadata": {
    "id": "LmjTu-ozqH1g",
    "outputId": "dd17e648-aee7-472a-acde-5b14c06e69f6"
   },
   "outputs": [
    {
     "data": {
      "image/png": "[encoded data removed]",
      "text/plain": [
       "<Figure size 1080x504 with 2 Axes>"
      ]
     },
     "metadata": {
      "needs_background": "light"
     },
     "output_type": "display_data"
    }
   ],
   "source": [
    "numeric_columns = data.select_dtypes(include=np.number).columns.tolist()\n",
    "numeric_columns.remove(\"Year\")  \n",
    "\n",
    "plt.figure(figsize=(15, 7))\n",
    "sns.heatmap(\n",
    "    df[numeric_columns].corr(),\n",
    "    annot=True,\n",
    "    vmin=-1,\n",
    "    vmax=1,\n",
    "    fmt=\".2f\",\n",
    "    cmap=\"Spectral\",\n",
    ")\n",
    "plt.show()"
   ]
  },
  {
   "cell_type": "markdown",
   "metadata": {
    "id": "Kmt2DS6iqH1k"
   },
   "source": [
    "* `Life expectancy` is highly negatively correlated with `Adult Mortality` and `HIV/AIDs`.\n",
    "\n",
    "* `Life expectancy` is highly positively correlated with `Schooling` and `Income composition of resources`."
   ]
  },
  {
   "cell_type": "markdown",
   "metadata": {
    "id": "EXeqlRxzqH1l"
   },
   "source": [
    "**Let's look at the graphs of a few variables that are highly correlated with `Life expectancy`.**"
   ]
  },
  {
   "cell_type": "markdown",
   "metadata": {
    "id": "P2JNbl0vqH1l"
   },
   "source": [
    "**`Life expectancy` vs `HIV/AIDS` vs `Status`**"
   ]
  },
  {
   "cell_type": "code",
   "execution_count": 18,
   "metadata": {
    "id": "-eso8XKuqH1m",
    "outputId": "296b095c-d7cb-419e-a95d-769a31750150"
   },
   "outputs": [
    {
     "data": {
      "image/png": "[encoded data removed]",
      "text/plain": [
       "<Figure size 720x504 with 1 Axes>"
      ]
     },
     "metadata": {
      "needs_background": "light"
     },
     "output_type": "display_data"
    }
   ],
   "source": [
    "plt.figure(figsize=(10, 7))\n",
    "sns.scatterplot(y=\"Life expectancy\", x=\"HIV/AIDS\", hue=\"Status\", data=df)\n",
    "plt.show()"
   ]
  },
  {
   "cell_type": "markdown",
   "metadata": {
    "id": "uQe-C33TqH1y"
   },
   "source": [
    "* Developed countries have very low cases of HIV/AIDS."
   ]
  },
  {
   "cell_type": "markdown",
   "metadata": {
    "id": "6jhpZ5fQqH2e"
   },
   "source": [
    "**`Life expectancy` vs `Schooling` vs `Status`**"
   ]
  },
  {
   "cell_type": "code",
   "execution_count": 19,
   "metadata": {
    "id": "GrxzOkw6qH2f",
    "outputId": "2bb5d9b5-9221-4f19-8734-21522e598670"
   },
   "outputs": [
    {
     "data": {
      "image/png": "[encoded data removed]",
      "text/plain": [
       "<Figure size 720x504 with 1 Axes>"
      ]
     },
     "metadata": {
      "needs_background": "light"
     },
     "output_type": "display_data"
    }
   ],
   "source": [
    "plt.figure(figsize=(10, 7))\n",
    "sns.scatterplot(y=\"Life expectancy\", x=\"Schooling\", hue=\"Status\", data=df)\n",
    "plt.show()"
   ]
  },
  {
   "cell_type": "markdown",
   "metadata": {
    "id": "PeTiK7M4qH2l"
   },
   "source": [
    "* Majority of the developed countries have schooling of more than 13 years, where most of the developing countries have less than that."
   ]
  },
  {
   "cell_type": "markdown",
   "metadata": {
    "id": "sr-IUI-DqH3L"
   },
   "source": [
    "**Let's check the variation in life expectancy across years.**"
   ]
  },
  {
   "cell_type": "code",
   "execution_count": 20,
   "metadata": {
    "id": "ytMX83JvlJIJ",
    "outputId": "915cb38c-0ddc-4246-9239-7a3cabf08b60",
    "scrolled": false
   },
   "outputs": [
    {
     "data": {
      "image/png": "[encoded data removed]",
      "text/plain": [
       "<Figure size 1080x504 with 1 Axes>"
      ]
     },
     "metadata": {
      "needs_background": "light"
     },
     "output_type": "display_data"
    }
   ],
   "source": [
    "plt.figure(figsize=(15, 7))\n",
    "sns.lineplot(x=\"Year\", y=\"Life expectancy\", data=df, ci=None)\n",
    "plt.show()"
   ]
  },
  {
   "cell_type": "markdown",
   "metadata": {
    "id": "yw1a1NWpqH3S"
   },
   "source": [
    "* Overall life expectancy has increased over the years."
   ]
  },
  {
   "cell_type": "markdown",
   "metadata": {
    "id": "NtxYBknWqH1F"
   },
   "source": [
    "#### Column binning\n",
    "\n",
    "#### Let's group all countries into continents to avoid having too many dummy variables while modeling."
   ]
  },
  {
   "cell_type": "code",
   "execution_count": 22,
   "metadata": {
    "id": "NIxUJPFvqH1G"
   },
   "outputs": [],
   "source": [
    "import pycountry_convert as pc\n",
    "\n",
    "\n",
    "def country_to_continent(country_name):\n",
    "    \"\"\"\n",
    "    country_name : name of country for which continent is needed\n",
    "    \"\"\"\n",
    "    if \"(\" in country_name:\n",
    "        country_name = country_name.split(\" \")[0]\n",
    "    country_alpha2 = pc.country_name_to_country_alpha2(country_name)\n",
    "    country_continent_code = pc.country_alpha2_to_continent_code(country_alpha2)\n",
    "    country_continent_name = pc.convert_continent_code_to_continent_name(\n",
    "        country_continent_code\n",
    "    )\n",
    "    return country_continent_name"
   ]
  },
  {
   "cell_type": "code",
   "execution_count": 23,
   "metadata": {
    "id": "G09Ff-WBqH1K",
    "outputId": "5caf6ff4-b043-40c0-c6fe-541e11469c73"
   },
   "outputs": [
    {
     "ename": "KeyError",
     "evalue": "\"Invalid Country Name: 'Republic of Korea'\"",
     "output_type": "error",
     "traceback": [
      "\u001b[0;31m---------------------------------------------------------------------------\u001b[0m",
      "\u001b[0;31mKeyError\u001b[0m                                  Traceback (most recent call last)",
      "\u001b[0;32m<ipython-input-23-be636641cb7a>\u001b[0m in \u001b[0;36m<module>\u001b[0;34m\u001b[0m\n\u001b[0;32m----> 1\u001b[0;31m \u001b[0mdf\u001b[0m\u001b[0;34m.\u001b[0m\u001b[0mCountry\u001b[0m\u001b[0;34m.\u001b[0m\u001b[0mapply\u001b[0m\u001b[0;34m(\u001b[0m\u001b[0mcountry_to_continent\u001b[0m\u001b[0;34m)\u001b[0m\u001b[0;34m\u001b[0m\u001b[0;34m\u001b[0m\u001b[0m\n\u001b[0m",
      "\u001b[0;32m/opt/anaconda3/lib/python3.8/site-packages/pandas/core/series.py\u001b[0m in \u001b[0;36mapply\u001b[0;34m(self, func, convert_dtype, args, **kwds)\u001b[0m\n\u001b[1;32m   4136\u001b[0m             \u001b[0;32melse\u001b[0m\u001b[0;34m:\u001b[0m\u001b[0;34m\u001b[0m\u001b[0;34m\u001b[0m\u001b[0m\n\u001b[1;32m   4137\u001b[0m                 \u001b[0mvalues\u001b[0m \u001b[0;34m=\u001b[0m \u001b[0mself\u001b[0m\u001b[0;34m.\u001b[0m\u001b[0mastype\u001b[0m\u001b[0;34m(\u001b[0m\u001b[0mobject\u001b[0m\u001b[0;34m)\u001b[0m\u001b[0;34m.\u001b[0m\u001b[0m_values\u001b[0m\u001b[0;34m\u001b[0m\u001b[0;34m\u001b[0m\u001b[0m\n\u001b[0;32m-> 4138\u001b[0;31m                 \u001b[0mmapped\u001b[0m \u001b[0;34m=\u001b[0m \u001b[0mlib\u001b[0m\u001b[0;34m.\u001b[0m\u001b[0mmap_infer\u001b[0m\u001b[0;34m(\u001b[0m\u001b[0mvalues\u001b[0m\u001b[0;34m,\u001b[0m \u001b[0mf\u001b[0m\u001b[0;34m,\u001b[0m \u001b[0mconvert\u001b[0m\u001b[0;34m=\u001b[0m\u001b[0mconvert_dtype\u001b[0m\u001b[0;34m)\u001b[0m\u001b[0;34m\u001b[0m\u001b[0;34m\u001b[0m\u001b[0m\n\u001b[0m\u001b[1;32m   4139\u001b[0m \u001b[0;34m\u001b[0m\u001b[0m\n\u001b[1;32m   4140\u001b[0m         \u001b[0;32mif\u001b[0m \u001b[0mlen\u001b[0m\u001b[0;34m(\u001b[0m\u001b[0mmapped\u001b[0m\u001b[0;34m)\u001b[0m \u001b[0;32mand\u001b[0m \u001b[0misinstance\u001b[0m\u001b[0;34m(\u001b[0m\u001b[0mmapped\u001b[0m\u001b[0;34m[\u001b[0m\u001b[0;36m0\u001b[0m\u001b[0;34m]\u001b[0m\u001b[0;34m,\u001b[0m \u001b[0mSeries\u001b[0m\u001b[0;34m)\u001b[0m\u001b[0;34m:\u001b[0m\u001b[0;34m\u001b[0m\u001b[0;34m\u001b[0m\u001b[0m\n",
      "\u001b[0;32mpandas/_libs/lib.pyx\u001b[0m in \u001b[0;36mpandas._libs.lib.map_infer\u001b[0;34m()\u001b[0m\n",
      "\u001b[0;32m<ipython-input-22-36fc200f0fdb>\u001b[0m in \u001b[0;36mcountry_to_continent\u001b[0;34m(country_name)\u001b[0m\n\u001b[1;32m      8\u001b[0m     \u001b[0;32mif\u001b[0m \u001b[0;34m\"(\"\u001b[0m \u001b[0;32min\u001b[0m \u001b[0mcountry_name\u001b[0m\u001b[0;34m:\u001b[0m\u001b[0;34m\u001b[0m\u001b[0;34m\u001b[0m\u001b[0m\n\u001b[1;32m      9\u001b[0m         \u001b[0mcountry_name\u001b[0m \u001b[0;34m=\u001b[0m \u001b[0mcountry_name\u001b[0m\u001b[0;34m.\u001b[0m\u001b[0msplit\u001b[0m\u001b[0;34m(\u001b[0m\u001b[0;34m\" \"\u001b[0m\u001b[0;34m)\u001b[0m\u001b[0;34m[\u001b[0m\u001b[0;36m0\u001b[0m\u001b[0;34m]\u001b[0m\u001b[0;34m\u001b[0m\u001b[0;34m\u001b[0m\u001b[0m\n\u001b[0;32m---> 10\u001b[0;31m     \u001b[0mcountry_alpha2\u001b[0m \u001b[0;34m=\u001b[0m \u001b[0mpc\u001b[0m\u001b[0;34m.\u001b[0m\u001b[0mcountry_name_to_country_alpha2\u001b[0m\u001b[0;34m(\u001b[0m\u001b[0mcountry_name\u001b[0m\u001b[0;34m)\u001b[0m\u001b[0;34m\u001b[0m\u001b[0;34m\u001b[0m\u001b[0m\n\u001b[0m\u001b[1;32m     11\u001b[0m     \u001b[0mcountry_continent_code\u001b[0m \u001b[0;34m=\u001b[0m \u001b[0mpc\u001b[0m\u001b[0;34m.\u001b[0m\u001b[0mcountry_alpha2_to_continent_code\u001b[0m\u001b[0;34m(\u001b[0m\u001b[0mcountry_alpha2\u001b[0m\u001b[0;34m)\u001b[0m\u001b[0;34m\u001b[0m\u001b[0;34m\u001b[0m\u001b[0m\n\u001b[1;32m     12\u001b[0m     country_continent_name = pc.convert_continent_code_to_continent_name(\n",
      "\u001b[0;32m/opt/anaconda3/lib/python3.8/site-packages/pycountry_convert/convert_countries.py\u001b[0m in \u001b[0;36mcountry_name_to_country_alpha2\u001b[0;34m(cn_name, cn_name_format)\u001b[0m\n\u001b[1;32m     69\u001b[0m \u001b[0;34m\u001b[0m\u001b[0m\n\u001b[1;32m     70\u001b[0m     \u001b[0;32mif\u001b[0m \u001b[0mcn_name\u001b[0m \u001b[0;32mnot\u001b[0m \u001b[0;32min\u001b[0m \u001b[0mdict_country_name_to_country_alpha2\u001b[0m\u001b[0;34m:\u001b[0m\u001b[0;34m\u001b[0m\u001b[0;34m\u001b[0m\u001b[0m\n\u001b[0;32m---> 71\u001b[0;31m         \u001b[0;32mraise\u001b[0m \u001b[0mKeyError\u001b[0m\u001b[0;34m(\u001b[0m\u001b[0;34m\"Invalid Country Name: '{0}'\"\u001b[0m\u001b[0;34m.\u001b[0m\u001b[0mformat\u001b[0m\u001b[0;34m(\u001b[0m\u001b[0mcn_name\u001b[0m\u001b[0;34m)\u001b[0m\u001b[0;34m)\u001b[0m\u001b[0;34m\u001b[0m\u001b[0;34m\u001b[0m\u001b[0m\n\u001b[0m\u001b[1;32m     72\u001b[0m \u001b[0;34m\u001b[0m\u001b[0m\n\u001b[1;32m     73\u001b[0m     \u001b[0;32mreturn\u001b[0m \u001b[0mdict_country_name_to_country_alpha2\u001b[0m\u001b[0;34m[\u001b[0m\u001b[0mcn_name\u001b[0m\u001b[0;34m]\u001b[0m\u001b[0;34m\u001b[0m\u001b[0;34m\u001b[0m\u001b[0m\n",
      "\u001b[0;31mKeyError\u001b[0m: \"Invalid Country Name: 'Republic of Korea'\""
     ]
    }
   ],
   "source": [
    "df.Country.apply(country_to_continent)"
   ]
  },
  {
   "cell_type": "markdown",
   "metadata": {
    "id": "uhBj6LBXqH1O"
   },
   "source": [
    "* There is an error message because names of the countries are different from what the library has. \n",
    "* In order to resolve this, I will hard-code them."
   ]
  },
  {
   "cell_type": "code",
   "execution_count": 24,
   "metadata": {
    "id": "RqB0pRtjqH1Q"
   },
   "outputs": [],
   "source": [
    "loc = df.Country.tolist()\n",
    "continent = dict()\n",
    "\n",
    "for cn in loc:\n",
    "    if cn == \"Republic of Korea\":\n",
    "        continent[cn] = \"Asia\"\n",
    "    elif cn == \"The former Yugoslav republic of Macedonia\":\n",
    "        continent[cn] = \"Europe\"\n",
    "    elif cn == \"Timor-Leste\":\n",
    "        continent[cn] = \"Asia\"\n",
    "    else:\n",
    "        continent[cn] = country_to_continent(cn)"
   ]
  },
  {
   "cell_type": "code",
   "execution_count": 25,
   "metadata": {
    "id": "kTrJiOzxqH1X"
   },
   "outputs": [],
   "source": [
    "df[\"Continent\"] = df[\"Country\"].map(continent)"
   ]
  },
  {
   "cell_type": "code",
   "execution_count": 26,
   "metadata": {
    "id": "PZSl3dbcqH1b",
    "outputId": "6212c926-0de2-4e83-e3ae-68f254f397c0"
   },
   "outputs": [
    {
     "name": "stdout",
     "output_type": "stream",
     "text": [
      "['Asia' 'Europe' 'Africa' 'North America' 'South America' 'Oceania']\n"
     ]
    }
   ],
   "source": [
    "print(df[\"Country\"].map(continent).unique())"
   ]
  },
  {
   "cell_type": "code",
   "execution_count": 27,
   "metadata": {},
   "outputs": [
    {
     "data": {
      "image/png": "[encoded data removed]",
      "text/plain": [
       "<Figure size 504x360 with 1 Axes>"
      ]
     },
     "metadata": {
      "needs_background": "light"
     },
     "output_type": "display_data"
    }
   ],
   "source": [
    "labeled_barplot(df, \"Continent\", perc=True)"
   ]
  },
  {
   "cell_type": "markdown",
   "metadata": {
    "id": "ew7Gw_RBqH10"
   },
   "source": [
    "**`Life expectancy` vs `Adult Mortality` vs `Continent`**"
   ]
  },
  {
   "cell_type": "code",
   "execution_count": 28,
   "metadata": {
    "id": "-PunK0P-qH11",
    "outputId": "58be1480-5e6a-4741-f57f-a56012ceaafe"
   },
   "outputs": [
    {
     "data": {
      "image/png": "[encoded data removed]",
      "text/plain": [
       "<Figure size 720x504 with 1 Axes>"
      ]
     },
     "metadata": {
      "needs_background": "light"
     },
     "output_type": "display_data"
    }
   ],
   "source": [
    "plt.figure(figsize=(10, 7))\n",
    "sns.scatterplot(y=\"Life expectancy\", x=\"Adult Mortality\", hue=\"Continent\", data=df)\n",
    "plt.show()"
   ]
  },
  {
   "cell_type": "markdown",
   "metadata": {
    "id": "Kptf5mi7qH2V"
   },
   "source": [
    "* Most of the African countries have high adult mortality and low life expectancy."
   ]
  },
  {
   "cell_type": "markdown",
   "metadata": {
    "id": "gzeetTJqqH4O"
   },
   "source": [
    "**Median `Life expectancy` by `Continent` and `Status`**"
   ]
  },
  {
   "cell_type": "code",
   "execution_count": 29,
   "metadata": {
    "id": "SF8SiAtEqH4P",
    "outputId": "bd4ecca3-5ce4-46ab-f609-ccebab8baa1a"
   },
   "outputs": [
    {
     "data": {
      "image/png": "[encoded data removed]",
      "text/plain": [
       "<Figure size 720x504 with 2 Axes>"
      ]
     },
     "metadata": {
      "needs_background": "light"
     },
     "output_type": "display_data"
    }
   ],
   "source": [
    "df_hm = df.pivot_table(\n",
    "    index=\"Continent\", columns=\"Status\", values=\"Life expectancy\", aggfunc=np.median\n",
    ")\n",
    "\n",
    "f, ax = plt.subplots(figsize=(10, 7))\n",
    "sns.heatmap(df_hm, cmap=\"Spectral\", linewidths=0.5, annot=True, ax=ax)\n",
    "plt.show()"
   ]
  },
  {
   "cell_type": "markdown",
   "metadata": {
    "id": "LNHi51U7fnUb"
   },
   "source": [
    "- Developed Asia countries have the highest life expectancy."
   ]
  },
  {
   "cell_type": "markdown",
   "metadata": {
    "id": "1THqC335b4Yi"
   },
   "source": [
    "### Linear Model Building\n",
    "\n",
    "1. We want to predict the life expectancy.\n",
    "\n",
    "2. Before we proceed to build a model, we'll have to encode categorical features.\n",
    "\n",
    "3. We'll split the data into train and test to be able to evaluate the model that we build on the train data.\n",
    "\n",
    "4. We will build a Linear Regression model using the train data and then check it's performance."
   ]
  },
  {
   "cell_type": "code",
   "execution_count": 30,
   "metadata": {},
   "outputs": [],
   "source": [
    "# converting the object type columns to category type\n",
    "\n",
    "df[\"Country\"] = df[\"Country\"].astype(\"category\")\n",
    "df[\"Status\"] = df[\"Status\"].astype(\"category\")\n",
    "df[\"Continent\"] = df[\"Continent\"].astype(\"category\")"
   ]
  },
  {
   "cell_type": "code",
   "execution_count": 31,
   "metadata": {
    "colab": {
     "base_uri": "https://localhost:8080/",
     "height": 255
    },
    "id": "372WHRhJGpj4",
    "outputId": "fbd1611b-c8c2-43e1-99b9-199c114b4790"
   },
   "outputs": [
    {
     "name": "stdout",
     "output_type": "stream",
     "text": [
      "   Year      Status  Adult Mortality  Infant deaths  Alcohol  \\\n",
      "0  2015  Developing            263.0             62     0.01   \n",
      "1  2014  Developing            271.0             64     0.01   \n",
      "2  2013  Developing            268.0             66     0.01   \n",
      "3  2012  Developing            272.0             69     0.01   \n",
      "4  2011  Developing            275.0             71     0.01   \n",
      "\n",
      "   Percentage expenditure  Hepatitis B  Measles   BMI  Under-five deaths  ...  \\\n",
      "0               71.279624         65.0     1154  19.1                 83  ...   \n",
      "1               73.523582         62.0      492  18.6                 86  ...   \n",
      "2               73.219243         64.0      430  18.1                 89  ...   \n",
      "3               78.184215         67.0     2787  17.6                 93  ...   \n",
      "4                7.097109         68.0     3013  17.2                 97  ...   \n",
      "\n",
      "   Total expenditure  Diphtheria  HIV/AIDS         GDP  Population  \\\n",
      "0               8.16        65.0       0.1  584.259210  33736494.0   \n",
      "1               8.18        62.0       0.1  612.696514    327582.0   \n",
      "2               8.13        64.0       0.1  631.744976  31731688.0   \n",
      "3               8.52        67.0       0.1  669.959000   3696958.0   \n",
      "4               7.87        68.0       0.1   63.537231   2978599.0   \n",
      "\n",
      "   Thinness  1-19 years  Thinness 5-9 years  Income composition of resources  \\\n",
      "0                  17.2                17.3                            0.479   \n",
      "1                  17.5                17.5                            0.476   \n",
      "2                  17.7                17.7                            0.470   \n",
      "3                  17.9                18.0                            0.463   \n",
      "4                  18.2                18.2                            0.454   \n",
      "\n",
      "   Schooling  Continent  \n",
      "0       10.1       Asia  \n",
      "1       10.0       Asia  \n",
      "2        9.9       Asia  \n",
      "3        9.8       Asia  \n",
      "4        9.5       Asia  \n",
      "\n",
      "[5 rows x 21 columns]\n",
      "0    65.0\n",
      "1    59.9\n",
      "2    59.9\n",
      "3    59.5\n",
      "4    59.2\n",
      "Name: Life expectancy, dtype: float64\n"
     ]
    }
   ],
   "source": [
    "# defining X and y variables\n",
    "\n",
    "X = df.drop([\"Life expectancy\", \"Country\"], axis=1)\n",
    "y = df[\"Life expectancy\"]\n",
    "\n",
    "print(X.head())\n",
    "print(y.head())"
   ]
  },
  {
   "cell_type": "code",
   "execution_count": 32,
   "metadata": {},
   "outputs": [],
   "source": [
    "X = sm.add_constant(X)"
   ]
  },
  {
   "cell_type": "code",
   "execution_count": 33,
   "metadata": {
    "colab": {
     "base_uri": "https://localhost:8080/",
     "height": 304
    },
    "id": "AHEOjrb8N-4b",
    "outputId": "07f1185c-cfd8-4d8b-96d4-a614db1b07c0"
   },
   "outputs": [
    {
     "data": {
      "text/html": [
       "<div>\n",
       "<style scoped>\n",
       "    .dataframe tbody tr th:only-of-type {\n",
       "        vertical-align: middle;\n",
       "    }\n",
       "\n",
       "    .dataframe tbody tr th {\n",
       "        vertical-align: top;\n",
       "    }\n",
       "\n",
       "    .dataframe thead th {\n",
       "        text-align: right;\n",
       "    }\n",
       "</style>\n",
       "<table border=\"1\" class=\"dataframe\">\n",
       "  <thead>\n",
       "    <tr style=\"text-align: right;\">\n",
       "      <th></th>\n",
       "      <th>const</th>\n",
       "      <th>Year</th>\n",
       "      <th>Adult Mortality</th>\n",
       "      <th>Infant deaths</th>\n",
       "      <th>Alcohol</th>\n",
       "      <th>Percentage expenditure</th>\n",
       "      <th>Hepatitis B</th>\n",
       "      <th>Measles</th>\n",
       "      <th>BMI</th>\n",
       "      <th>Under-five deaths</th>\n",
       "      <th>...</th>\n",
       "      <th>Thinness  1-19 years</th>\n",
       "      <th>Thinness 5-9 years</th>\n",
       "      <th>Income composition of resources</th>\n",
       "      <th>Schooling</th>\n",
       "      <th>Status_Developing</th>\n",
       "      <th>Continent_Asia</th>\n",
       "      <th>Continent_Europe</th>\n",
       "      <th>Continent_North America</th>\n",
       "      <th>Continent_Oceania</th>\n",
       "      <th>Continent_South America</th>\n",
       "    </tr>\n",
       "  </thead>\n",
       "  <tbody>\n",
       "    <tr>\n",
       "      <th>0</th>\n",
       "      <td>1.0</td>\n",
       "      <td>2015</td>\n",
       "      <td>263.0</td>\n",
       "      <td>62</td>\n",
       "      <td>0.01</td>\n",
       "      <td>71.279624</td>\n",
       "      <td>65.0</td>\n",
       "      <td>1154</td>\n",
       "      <td>19.1</td>\n",
       "      <td>83</td>\n",
       "      <td>...</td>\n",
       "      <td>17.2</td>\n",
       "      <td>17.3</td>\n",
       "      <td>0.479</td>\n",
       "      <td>10.1</td>\n",
       "      <td>1</td>\n",
       "      <td>1</td>\n",
       "      <td>0</td>\n",
       "      <td>0</td>\n",
       "      <td>0</td>\n",
       "      <td>0</td>\n",
       "    </tr>\n",
       "    <tr>\n",
       "      <th>1</th>\n",
       "      <td>1.0</td>\n",
       "      <td>2014</td>\n",
       "      <td>271.0</td>\n",
       "      <td>64</td>\n",
       "      <td>0.01</td>\n",
       "      <td>73.523582</td>\n",
       "      <td>62.0</td>\n",
       "      <td>492</td>\n",
       "      <td>18.6</td>\n",
       "      <td>86</td>\n",
       "      <td>...</td>\n",
       "      <td>17.5</td>\n",
       "      <td>17.5</td>\n",
       "      <td>0.476</td>\n",
       "      <td>10.0</td>\n",
       "      <td>1</td>\n",
       "      <td>1</td>\n",
       "      <td>0</td>\n",
       "      <td>0</td>\n",
       "      <td>0</td>\n",
       "      <td>0</td>\n",
       "    </tr>\n",
       "    <tr>\n",
       "      <th>2</th>\n",
       "      <td>1.0</td>\n",
       "      <td>2013</td>\n",
       "      <td>268.0</td>\n",
       "      <td>66</td>\n",
       "      <td>0.01</td>\n",
       "      <td>73.219243</td>\n",
       "      <td>64.0</td>\n",
       "      <td>430</td>\n",
       "      <td>18.1</td>\n",
       "      <td>89</td>\n",
       "      <td>...</td>\n",
       "      <td>17.7</td>\n",
       "      <td>17.7</td>\n",
       "      <td>0.470</td>\n",
       "      <td>9.9</td>\n",
       "      <td>1</td>\n",
       "      <td>1</td>\n",
       "      <td>0</td>\n",
       "      <td>0</td>\n",
       "      <td>0</td>\n",
       "      <td>0</td>\n",
       "    </tr>\n",
       "    <tr>\n",
       "      <th>3</th>\n",
       "      <td>1.0</td>\n",
       "      <td>2012</td>\n",
       "      <td>272.0</td>\n",
       "      <td>69</td>\n",
       "      <td>0.01</td>\n",
       "      <td>78.184215</td>\n",
       "      <td>67.0</td>\n",
       "      <td>2787</td>\n",
       "      <td>17.6</td>\n",
       "      <td>93</td>\n",
       "      <td>...</td>\n",
       "      <td>17.9</td>\n",
       "      <td>18.0</td>\n",
       "      <td>0.463</td>\n",
       "      <td>9.8</td>\n",
       "      <td>1</td>\n",
       "      <td>1</td>\n",
       "      <td>0</td>\n",
       "      <td>0</td>\n",
       "      <td>0</td>\n",
       "      <td>0</td>\n",
       "    </tr>\n",
       "    <tr>\n",
       "      <th>4</th>\n",
       "      <td>1.0</td>\n",
       "      <td>2011</td>\n",
       "      <td>275.0</td>\n",
       "      <td>71</td>\n",
       "      <td>0.01</td>\n",
       "      <td>7.097109</td>\n",
       "      <td>68.0</td>\n",
       "      <td>3013</td>\n",
       "      <td>17.2</td>\n",
       "      <td>97</td>\n",
       "      <td>...</td>\n",
       "      <td>18.2</td>\n",
       "      <td>18.2</td>\n",
       "      <td>0.454</td>\n",
       "      <td>9.5</td>\n",
       "      <td>1</td>\n",
       "      <td>1</td>\n",
       "      <td>0</td>\n",
       "      <td>0</td>\n",
       "      <td>0</td>\n",
       "      <td>0</td>\n",
       "    </tr>\n",
       "  </tbody>\n",
       "</table>\n",
       "<p>5 rows × 26 columns</p>\n",
       "</div>"
      ],
      "text/plain": [
       "   const  Year  Adult Mortality  Infant deaths  Alcohol  \\\n",
       "0    1.0  2015            263.0             62     0.01   \n",
       "1    1.0  2014            271.0             64     0.01   \n",
       "2    1.0  2013            268.0             66     0.01   \n",
       "3    1.0  2012            272.0             69     0.01   \n",
       "4    1.0  2011            275.0             71     0.01   \n",
       "\n",
       "   Percentage expenditure  Hepatitis B  Measles   BMI  Under-five deaths  ...  \\\n",
       "0               71.279624         65.0     1154  19.1                 83  ...   \n",
       "1               73.523582         62.0      492  18.6                 86  ...   \n",
       "2               73.219243         64.0      430  18.1                 89  ...   \n",
       "3               78.184215         67.0     2787  17.6                 93  ...   \n",
       "4                7.097109         68.0     3013  17.2                 97  ...   \n",
       "\n",
       "   Thinness  1-19 years  Thinness 5-9 years  Income composition of resources  \\\n",
       "0                  17.2                17.3                            0.479   \n",
       "1                  17.5                17.5                            0.476   \n",
       "2                  17.7                17.7                            0.470   \n",
       "3                  17.9                18.0                            0.463   \n",
       "4                  18.2                18.2                            0.454   \n",
       "\n",
       "   Schooling  Status_Developing  Continent_Asia  Continent_Europe  \\\n",
       "0       10.1                  1               1                 0   \n",
       "1       10.0                  1               1                 0   \n",
       "2        9.9                  1               1                 0   \n",
       "3        9.8                  1               1                 0   \n",
       "4        9.5                  1               1                 0   \n",
       "\n",
       "   Continent_North America  Continent_Oceania  Continent_South America  \n",
       "0                        0                  0                        0  \n",
       "1                        0                  0                        0  \n",
       "2                        0                  0                        0  \n",
       "3                        0                  0                        0  \n",
       "4                        0                  0                        0  \n",
       "\n",
       "[5 rows x 26 columns]"
      ]
     },
     "execution_count": 33,
     "metadata": {},
     "output_type": "execute_result"
    }
   ],
   "source": [
    "X = pd.get_dummies(\n",
    "    X,\n",
    "    columns=X.select_dtypes(include=[\"object\", \"category\"]).columns.tolist(),\n",
    "    drop_first=True,\n",
    ")\n",
    "X.head()"
   ]
  },
  {
   "cell_type": "code",
   "execution_count": 34,
   "metadata": {
    "id": "CBXfTtAPGoaF",
    "outputId": "b8ab8d8e-5509-4c90-e946-809c5e264d82"
   },
   "outputs": [],
   "source": [
    "# splitting the data in 70:30 ratio for train to test data\n",
    "\n",
    "x_train, x_test, y_train, y_test = train_test_split(X, y, test_size=0.3, random_state=1)"
   ]
  },
  {
   "cell_type": "code",
   "execution_count": 35,
   "metadata": {},
   "outputs": [
    {
     "name": "stdout",
     "output_type": "stream",
     "text": [
      "Number of rows in train data = 2049\n",
      "Number of rows in test data = 879\n"
     ]
    }
   ],
   "source": [
    "print(\"Number of rows in train data =\", x_train.shape[0])\n",
    "print(\"Number of rows in test data =\", x_test.shape[0])"
   ]
  },
  {
   "cell_type": "code",
   "execution_count": 36,
   "metadata": {
    "colab": {
     "base_uri": "https://localhost:8080/",
     "height": 1000
    },
    "id": "AQ_s8bVsH3hu",
    "outputId": "2f78d96f-2da4-4ad5-c3ba-fbd48b8406a2",
    "scrolled": false
   },
   "outputs": [
    {
     "name": "stdout",
     "output_type": "stream",
     "text": [
      "                            OLS Regression Results                            \n",
      "==============================================================================\n",
      "Dep. Variable:        Life expectancy   R-squared:                       0.847\n",
      "Model:                            OLS   Adj. R-squared:                  0.845\n",
      "Method:                 Least Squares   F-statistic:                     448.3\n",
      "Date:                Sun, 05 Mar 2023   Prob (F-statistic):               0.00\n",
      "Time:                        17:25:48   Log-Likelihood:                -5612.6\n",
      "No. Observations:                2049   AIC:                         1.128e+04\n",
      "Df Residuals:                    2023   BIC:                         1.142e+04\n",
      "Df Model:                          25                                         \n",
      "Covariance Type:            nonrobust                                         \n",
      "===================================================================================================\n",
      "                                      coef    std err          t      P>|t|      [0.025      0.975]\n",
      "---------------------------------------------------------------------------------------------------\n",
      "const                             -10.0359     39.682     -0.253      0.800     -87.858      67.786\n",
      "Year                                0.0334      0.020      1.683      0.093      -0.006       0.072\n",
      "Adult Mortality                    -0.0162      0.001    -17.946      0.000      -0.018      -0.014\n",
      "Infant deaths                       0.0639      0.010      6.511      0.000       0.045       0.083\n",
      "Alcohol                            -0.0505      0.033     -1.508      0.132      -0.116       0.015\n",
      "Percentage expenditure              0.0002   9.93e-05      1.695      0.090   -2.64e-05       0.000\n",
      "Hepatitis B                        -0.0145      0.004     -3.393      0.001      -0.023      -0.006\n",
      "Measles                         -1.559e-05   9.27e-06     -1.682      0.093   -3.38e-05    2.58e-06\n",
      "BMI                                 0.0339      0.006      5.772      0.000       0.022       0.045\n",
      "Under-five deaths                  -0.0485      0.007     -6.750      0.000      -0.063      -0.034\n",
      "Polio                               0.0323      0.005      6.551      0.000       0.023       0.042\n",
      "Total expenditure                  -0.0060      0.039     -0.152      0.879      -0.083       0.071\n",
      "Diphtheria                          0.0309      0.005      6.014      0.000       0.021       0.041\n",
      "HIV/AIDS                           -0.3832      0.020    -18.797      0.000      -0.423      -0.343\n",
      "GDP                              2.496e-05    1.5e-05      1.663      0.096   -4.47e-06    5.44e-05\n",
      "Population                       3.075e-10   2.31e-09      0.133      0.894   -4.22e-09    4.84e-09\n",
      "Thinness  1-19 years               -0.0236      0.061     -0.385      0.700      -0.143       0.096\n",
      "Thinness 5-9 years                 -0.0729      0.061     -1.198      0.231      -0.192       0.046\n",
      "Income composition of resources     4.0795      0.721      5.658      0.000       2.665       5.494\n",
      "Schooling                           0.6186      0.048     12.880      0.000       0.524       0.713\n",
      "Status_Developing                  -2.5795      0.352     -7.318      0.000      -3.271      -1.888\n",
      "Continent_Asia                      4.2862      0.287     14.922      0.000       3.723       4.850\n",
      "Continent_Europe                    3.9647      0.413      9.597      0.000       3.155       4.775\n",
      "Continent_North America             5.8618      0.366     16.031      0.000       5.145       6.579\n",
      "Continent_Oceania                   2.4254      0.459      5.286      0.000       1.526       3.325\n",
      "Continent_South America             3.9444      0.445      8.860      0.000       3.071       4.817\n",
      "==============================================================================\n",
      "Omnibus:                       79.914   Durbin-Watson:                   2.016\n",
      "Prob(Omnibus):                  0.000   Jarque-Bera (JB):              212.485\n",
      "Skew:                          -0.142   Prob(JB):                     7.24e-47\n",
      "Kurtosis:                       4.552   Cond. No.                     2.09e+10\n",
      "==============================================================================\n",
      "\n",
      "Notes:\n",
      "[1] Standard Errors assume that the covariance matrix of the errors is correctly specified.\n",
      "[2] The condition number is large, 2.09e+10. This might indicate that there are\n",
      "strong multicollinearity or other numerical problems.\n"
     ]
    }
   ],
   "source": [
    "olsmodel = sm.OLS(y_train, x_train).fit()\n",
    "print(olsmodel.summary())"
   ]
  },
  {
   "cell_type": "markdown",
   "metadata": {},
   "source": [
    "- Adjusted R-squared values generally range from 0 to 1, where a higher value generally indicates a better fit. In this case, the value is 0.845. It's a good fit."
   ]
  },
  {
   "cell_type": "markdown",
   "metadata": {},
   "source": [
    "**Let's check the performance of the model using different metrics.**\n"
   ]
  },
  {
   "cell_type": "code",
   "execution_count": 37,
   "metadata": {
    "id": "deaapIIvlJIL",
    "outputId": "3dde4318-92d3-45b2-9630-40c84f28db99"
   },
   "outputs": [],
   "source": [
    "# function to compute adjusted R-squared\n",
    "def adj_r2_score(predictors, targets, predictions):\n",
    "    r2 = r2_score(targets, predictions)\n",
    "    n = predictors.shape[0]\n",
    "    k = predictors.shape[1]\n",
    "    return 1 - ((1 - r2) * (n - 1) / (n - k - 1))\n",
    "\n",
    "\n",
    "# function to compute MAPE\n",
    "def mape_score(targets, predictions):\n",
    "    return np.mean(np.abs(targets - predictions) / targets) * 100\n",
    "\n",
    "\n",
    "# function to compute different metrics to check performance of a regression model\n",
    "def model_performance_regression(model, predictors, target):\n",
    "    \"\"\"\n",
    "    Function to compute different metrics to check regression model performance\n",
    "\n",
    "    model: regressor\n",
    "    predictors: independent variables\n",
    "    target: dependent variable\n",
    "    \"\"\"\n",
    "\n",
    "    # predicting using the independent variables\n",
    "    pred = model.predict(predictors)\n",
    "\n",
    "    r2 = r2_score(target, pred)  # to compute R-squared\n",
    "    adjr2 = adj_r2_score(predictors, target, pred)  # to compute adjusted R-squared\n",
    "    rmse = np.sqrt(mean_squared_error(target, pred))  # to compute RMSE\n",
    "    mae = mean_absolute_error(target, pred)  # to compute MAE\n",
    "    mape = mape_score(target, pred)  # to compute MAPE\n",
    "\n",
    "    # creating a dataframe of metrics\n",
    "    df_perf = pd.DataFrame(\n",
    "        {\n",
    "            \"RMSE\": rmse,\n",
    "            \"MAE\": mae,\n",
    "            \"R-squared\": r2,\n",
    "            \"Adj. R-squared\": adjr2,\n",
    "            \"MAPE\": mape,\n",
    "        },\n",
    "        index=[0],\n",
    "    )\n",
    "\n",
    "    return df_perf"
   ]
  },
  {
   "cell_type": "code",
   "execution_count": 38,
   "metadata": {
    "colab": {
     "base_uri": "https://localhost:8080/",
     "height": 34
    },
    "id": "vVBBaPtf-BZd",
    "outputId": "63d34fb7-2c29-4343-b356-15c63bf06b2c"
   },
   "outputs": [
    {
     "data": {
      "text/html": [
       "<div>\n",
       "<style scoped>\n",
       "    .dataframe tbody tr th:only-of-type {\n",
       "        vertical-align: middle;\n",
       "    }\n",
       "\n",
       "    .dataframe tbody tr th {\n",
       "        vertical-align: top;\n",
       "    }\n",
       "\n",
       "    .dataframe thead th {\n",
       "        text-align: right;\n",
       "    }\n",
       "</style>\n",
       "<table border=\"1\" class=\"dataframe\">\n",
       "  <thead>\n",
       "    <tr style=\"text-align: right;\">\n",
       "      <th></th>\n",
       "      <th>RMSE</th>\n",
       "      <th>MAE</th>\n",
       "      <th>R-squared</th>\n",
       "      <th>Adj. R-squared</th>\n",
       "      <th>MAPE</th>\n",
       "    </tr>\n",
       "  </thead>\n",
       "  <tbody>\n",
       "    <tr>\n",
       "      <th>0</th>\n",
       "      <td>3.7444</td>\n",
       "      <td>2.832731</td>\n",
       "      <td>0.847098</td>\n",
       "      <td>0.845132</td>\n",
       "      <td>4.308428</td>\n",
       "    </tr>\n",
       "  </tbody>\n",
       "</table>\n",
       "</div>"
      ],
      "text/plain": [
       "     RMSE       MAE  R-squared  Adj. R-squared      MAPE\n",
       "0  3.7444  2.832731   0.847098        0.845132  4.308428"
      ]
     },
     "execution_count": 38,
     "metadata": {},
     "output_type": "execute_result"
    }
   ],
   "source": [
    "# checking model performance on train set \n",
    "\n",
    "olsmodel_train_perf = model_performance_regression(olsmodel, x_train, y_train)\n",
    "olsmodel_train_perf"
   ]
  },
  {
   "cell_type": "code",
   "execution_count": 39,
   "metadata": {
    "id": "Sv51vNBhlJIL",
    "outputId": "820395bc-f454-4ec9-a8f0-757d0e3c0d84"
   },
   "outputs": [
    {
     "data": {
      "text/html": [
       "<div>\n",
       "<style scoped>\n",
       "    .dataframe tbody tr th:only-of-type {\n",
       "        vertical-align: middle;\n",
       "    }\n",
       "\n",
       "    .dataframe tbody tr th {\n",
       "        vertical-align: top;\n",
       "    }\n",
       "\n",
       "    .dataframe thead th {\n",
       "        text-align: right;\n",
       "    }\n",
       "</style>\n",
       "<table border=\"1\" class=\"dataframe\">\n",
       "  <thead>\n",
       "    <tr style=\"text-align: right;\">\n",
       "      <th></th>\n",
       "      <th>RMSE</th>\n",
       "      <th>MAE</th>\n",
       "      <th>R-squared</th>\n",
       "      <th>Adj. R-squared</th>\n",
       "      <th>MAPE</th>\n",
       "    </tr>\n",
       "  </thead>\n",
       "  <tbody>\n",
       "    <tr>\n",
       "      <th>0</th>\n",
       "      <td>3.730845</td>\n",
       "      <td>2.820497</td>\n",
       "      <td>0.842311</td>\n",
       "      <td>0.837499</td>\n",
       "      <td>4.280578</td>\n",
       "    </tr>\n",
       "  </tbody>\n",
       "</table>\n",
       "</div>"
      ],
      "text/plain": [
       "       RMSE       MAE  R-squared  Adj. R-squared      MAPE\n",
       "0  3.730845  2.820497   0.842311        0.837499  4.280578"
      ]
     },
     "execution_count": 39,
     "metadata": {},
     "output_type": "execute_result"
    }
   ],
   "source": [
    "# checking model performance on test set \n",
    "\n",
    "olsmodel_test_perf = model_performance_regression(olsmodel, x_test, y_test)\n",
    "olsmodel_test_perf"
   ]
  },
  {
   "cell_type": "markdown",
   "metadata": {
    "id": "doso3U2753mZ"
   },
   "source": [
    "- Numbers are pretty close on the training and test sets, which means the model does a pretty good job predicting.\n",
    "\n",
    "- With a MAE of 2.8 and MAPE of 4.3, we know the model's predictions are pretty close to the actual values."
   ]
  },
  {
   "cell_type": "markdown",
   "metadata": {
    "id": "a9GxSQf-qH8e"
   },
   "source": [
    "### Checking Linear Regression Assumptions"
   ]
  },
  {
   "cell_type": "markdown",
   "metadata": {
    "id": "5Wr6XkwoqH8f"
   },
   "source": [
    "We will be checking the following Linear Regression assumptions:\n",
    "\n",
    "1. **No Multicollinearity**\n",
    "\n",
    "2. **Linearity of variables**\n",
    "\n",
    "3. **Independence of error terms**\n",
    "\n",
    "4. **Normality of error terms**\n",
    "\n",
    "5. **No Heteroscedasticity**"
   ]
  },
  {
   "cell_type": "markdown",
   "metadata": {
    "id": "mROHQdzZqH8f"
   },
   "source": [
    "#### Test for Multicollinearity"
   ]
  },
  {
   "cell_type": "code",
   "execution_count": 40,
   "metadata": {
    "id": "ZV-69rVWqH8g",
    "outputId": "91fa45d9-73ff-46cd-bad0-79a6d2ac4b76"
   },
   "outputs": [],
   "source": [
    "from statsmodels.stats.outliers_influence import variance_inflation_factor\n",
    "\n",
    "def checking_vif(predictors):\n",
    "    vif = pd.DataFrame()\n",
    "    vif[\"feature\"] = predictors.columns\n",
    "\n",
    "    vif[\"VIF\"] = [\n",
    "        variance_inflation_factor(predictors.values, i)\n",
    "        for i in range(len(predictors.columns))\n",
    "    ]\n",
    "    return vif"
   ]
  },
  {
   "cell_type": "code",
   "execution_count": 41,
   "metadata": {},
   "outputs": [
    {
     "data": {
      "text/html": [
       "<div>\n",
       "<style scoped>\n",
       "    .dataframe tbody tr th:only-of-type {\n",
       "        vertical-align: middle;\n",
       "    }\n",
       "\n",
       "    .dataframe tbody tr th {\n",
       "        vertical-align: top;\n",
       "    }\n",
       "\n",
       "    .dataframe thead th {\n",
       "        text-align: right;\n",
       "    }\n",
       "</style>\n",
       "<table border=\"1\" class=\"dataframe\">\n",
       "  <thead>\n",
       "    <tr style=\"text-align: right;\">\n",
       "      <th></th>\n",
       "      <th>feature</th>\n",
       "      <th>VIF</th>\n",
       "    </tr>\n",
       "  </thead>\n",
       "  <tbody>\n",
       "    <tr>\n",
       "      <th>0</th>\n",
       "      <td>const</td>\n",
       "      <td>227205.392829</td>\n",
       "    </tr>\n",
       "    <tr>\n",
       "      <th>1</th>\n",
       "      <td>Year</td>\n",
       "      <td>1.191704</td>\n",
       "    </tr>\n",
       "    <tr>\n",
       "      <th>2</th>\n",
       "      <td>Adult Mortality</td>\n",
       "      <td>1.835454</td>\n",
       "    </tr>\n",
       "    <tr>\n",
       "      <th>3</th>\n",
       "      <td>Infant deaths</td>\n",
       "      <td>191.008892</td>\n",
       "    </tr>\n",
       "    <tr>\n",
       "      <th>4</th>\n",
       "      <td>Alcohol</td>\n",
       "      <td>2.470353</td>\n",
       "    </tr>\n",
       "    <tr>\n",
       "      <th>5</th>\n",
       "      <td>Percentage expenditure</td>\n",
       "      <td>5.631140</td>\n",
       "    </tr>\n",
       "    <tr>\n",
       "      <th>6</th>\n",
       "      <td>Hepatitis B</td>\n",
       "      <td>1.322443</td>\n",
       "    </tr>\n",
       "    <tr>\n",
       "      <th>7</th>\n",
       "      <td>Measles</td>\n",
       "      <td>1.432634</td>\n",
       "    </tr>\n",
       "    <tr>\n",
       "      <th>8</th>\n",
       "      <td>BMI</td>\n",
       "      <td>1.921698</td>\n",
       "    </tr>\n",
       "    <tr>\n",
       "      <th>9</th>\n",
       "      <td>Under-five deaths</td>\n",
       "      <td>190.547440</td>\n",
       "    </tr>\n",
       "    <tr>\n",
       "      <th>10</th>\n",
       "      <td>Polio</td>\n",
       "      <td>1.909524</td>\n",
       "    </tr>\n",
       "    <tr>\n",
       "      <th>11</th>\n",
       "      <td>Total expenditure</td>\n",
       "      <td>1.250291</td>\n",
       "    </tr>\n",
       "    <tr>\n",
       "      <th>12</th>\n",
       "      <td>Diphtheria</td>\n",
       "      <td>2.107072</td>\n",
       "    </tr>\n",
       "    <tr>\n",
       "      <th>13</th>\n",
       "      <td>HIV/AIDS</td>\n",
       "      <td>1.569409</td>\n",
       "    </tr>\n",
       "    <tr>\n",
       "      <th>14</th>\n",
       "      <td>GDP</td>\n",
       "      <td>5.871180</td>\n",
       "    </tr>\n",
       "    <tr>\n",
       "      <th>15</th>\n",
       "      <td>Population</td>\n",
       "      <td>1.410645</td>\n",
       "    </tr>\n",
       "    <tr>\n",
       "      <th>16</th>\n",
       "      <td>Thinness  1-19 years</td>\n",
       "      <td>9.874031</td>\n",
       "    </tr>\n",
       "    <tr>\n",
       "      <th>17</th>\n",
       "      <td>Thinness 5-9 years</td>\n",
       "      <td>10.052169</td>\n",
       "    </tr>\n",
       "    <tr>\n",
       "      <th>18</th>\n",
       "      <td>Income composition of resources</td>\n",
       "      <td>3.179681</td>\n",
       "    </tr>\n",
       "    <tr>\n",
       "      <th>19</th>\n",
       "      <td>Schooling</td>\n",
       "      <td>3.534133</td>\n",
       "    </tr>\n",
       "    <tr>\n",
       "      <th>20</th>\n",
       "      <td>Status_Developing</td>\n",
       "      <td>2.590817</td>\n",
       "    </tr>\n",
       "    <tr>\n",
       "      <th>21</th>\n",
       "      <td>Continent_Asia</td>\n",
       "      <td>2.242959</td>\n",
       "    </tr>\n",
       "    <tr>\n",
       "      <th>22</th>\n",
       "      <td>Continent_Europe</td>\n",
       "      <td>4.110731</td>\n",
       "    </tr>\n",
       "    <tr>\n",
       "      <th>23</th>\n",
       "      <td>Continent_North America</td>\n",
       "      <td>2.009284</td>\n",
       "    </tr>\n",
       "    <tr>\n",
       "      <th>24</th>\n",
       "      <td>Continent_Oceania</td>\n",
       "      <td>1.635813</td>\n",
       "    </tr>\n",
       "    <tr>\n",
       "      <th>25</th>\n",
       "      <td>Continent_South America</td>\n",
       "      <td>1.625837</td>\n",
       "    </tr>\n",
       "  </tbody>\n",
       "</table>\n",
       "</div>"
      ],
      "text/plain": [
       "                            feature            VIF\n",
       "0                             const  227205.392829\n",
       "1                              Year       1.191704\n",
       "2                   Adult Mortality       1.835454\n",
       "3                     Infant deaths     191.008892\n",
       "4                           Alcohol       2.470353\n",
       "5            Percentage expenditure       5.631140\n",
       "6                       Hepatitis B       1.322443\n",
       "7                           Measles       1.432634\n",
       "8                               BMI       1.921698\n",
       "9                 Under-five deaths     190.547440\n",
       "10                            Polio       1.909524\n",
       "11                Total expenditure       1.250291\n",
       "12                       Diphtheria       2.107072\n",
       "13                         HIV/AIDS       1.569409\n",
       "14                              GDP       5.871180\n",
       "15                       Population       1.410645\n",
       "16             Thinness  1-19 years       9.874031\n",
       "17               Thinness 5-9 years      10.052169\n",
       "18  Income composition of resources       3.179681\n",
       "19                        Schooling       3.534133\n",
       "20                Status_Developing       2.590817\n",
       "21                   Continent_Asia       2.242959\n",
       "22                 Continent_Europe       4.110731\n",
       "23          Continent_North America       2.009284\n",
       "24                Continent_Oceania       1.635813\n",
       "25          Continent_South America       1.625837"
      ]
     },
     "execution_count": 41,
     "metadata": {},
     "output_type": "execute_result"
    }
   ],
   "source": [
    "checking_vif(x_train)"
   ]
  },
  {
   "cell_type": "markdown",
   "metadata": {
    "id": "wA_OnHcyqH8p"
   },
   "source": [
    "* `Thinness__1_19_years`,`Thinness__5_9_years`, `Percentage expenditure`, and `GDP` have VIFs slightly greater than 5.\n",
    "* `Infant_deaths` and `Under_five_deaths` have a VIF score of much greater than 5.\n",
    "    * It appears that these 2 variables are correlated with each other, which makes sense because there would have a overlap between the two variables."
   ]
  },
  {
   "cell_type": "markdown",
   "metadata": {
    "id": "XSiS4SRaqH8q"
   },
   "source": [
    "#### Removing Multicollinearity\n",
    "\n"
   ]
  },
  {
   "cell_type": "code",
   "execution_count": 42,
   "metadata": {},
   "outputs": [],
   "source": [
    "def treating_multicollinearity(predictors, target, high_vif_columns):\n",
    "    \"\"\"\n",
    "    Checking the effect of dropping the columns showing high multicollinearity\n",
    "    on model performance (adj. R-squared and RMSE)\n",
    "\n",
    "    predictors: independent variables\n",
    "    target: dependent variable\n",
    "    high_vif_columns: columns having high VIF\n",
    "    \"\"\"\n",
    "    # empty lists to store adj. R-squared and RMSE values\n",
    "    adj_r2 = []\n",
    "    rmse = []\n",
    "\n",
    "    # build ols models by dropping one of the high VIF columns at a time\n",
    "    # store the adjusted R-squared and RMSE in the lists defined previously\n",
    "    for cols in high_vif_columns:\n",
    "        # defining the new train set\n",
    "        train = predictors.loc[:, ~predictors.columns.str.startswith(cols)]\n",
    "\n",
    "        # create the model\n",
    "        olsmodel = sm.OLS(target, train).fit()\n",
    "\n",
    "        # adding adj. R-squared and RMSE to the lists\n",
    "        adj_r2.append(olsmodel.rsquared_adj)\n",
    "        rmse.append(np.sqrt(olsmodel.mse_resid))\n",
    "\n",
    "    # creating a dataframe for the results\n",
    "    temp = pd.DataFrame(\n",
    "        {\n",
    "            \"col\": high_vif_columns,\n",
    "            \"Adj. R-squared after_dropping col\": adj_r2,\n",
    "            \"RMSE after dropping col\": rmse,\n",
    "        }\n",
    "    ).sort_values(by=\"Adj. R-squared after_dropping col\", ascending=False)\n",
    "    temp.reset_index(drop=True, inplace=True)\n",
    "\n",
    "    return temp"
   ]
  },
  {
   "cell_type": "code",
   "execution_count": 43,
   "metadata": {},
   "outputs": [
    {
     "data": {
      "text/html": [
       "<div>\n",
       "<style scoped>\n",
       "    .dataframe tbody tr th:only-of-type {\n",
       "        vertical-align: middle;\n",
       "    }\n",
       "\n",
       "    .dataframe tbody tr th {\n",
       "        vertical-align: top;\n",
       "    }\n",
       "\n",
       "    .dataframe thead th {\n",
       "        text-align: right;\n",
       "    }\n",
       "</style>\n",
       "<table border=\"1\" class=\"dataframe\">\n",
       "  <thead>\n",
       "    <tr style=\"text-align: right;\">\n",
       "      <th></th>\n",
       "      <th>col</th>\n",
       "      <th>Adj. R-squared after_dropping col</th>\n",
       "      <th>RMSE after dropping col</th>\n",
       "    </tr>\n",
       "  </thead>\n",
       "  <tbody>\n",
       "    <tr>\n",
       "      <th>0</th>\n",
       "      <td>Thinness  1-19 years</td>\n",
       "      <td>0.845273</td>\n",
       "      <td>3.767592</td>\n",
       "    </tr>\n",
       "    <tr>\n",
       "      <th>1</th>\n",
       "      <td>Thinness 5-9 years</td>\n",
       "      <td>0.845175</td>\n",
       "      <td>3.768790</td>\n",
       "    </tr>\n",
       "    <tr>\n",
       "      <th>2</th>\n",
       "      <td>GDP</td>\n",
       "      <td>0.845073</td>\n",
       "      <td>3.770029</td>\n",
       "    </tr>\n",
       "    <tr>\n",
       "      <th>3</th>\n",
       "      <td>Percentage expenditure</td>\n",
       "      <td>0.845065</td>\n",
       "      <td>3.770129</td>\n",
       "    </tr>\n",
       "    <tr>\n",
       "      <th>4</th>\n",
       "      <td>Infant deaths</td>\n",
       "      <td>0.842042</td>\n",
       "      <td>3.806727</td>\n",
       "    </tr>\n",
       "    <tr>\n",
       "      <th>5</th>\n",
       "      <td>Under-five deaths</td>\n",
       "      <td>0.841800</td>\n",
       "      <td>3.809645</td>\n",
       "    </tr>\n",
       "  </tbody>\n",
       "</table>\n",
       "</div>"
      ],
      "text/plain": [
       "                      col  Adj. R-squared after_dropping col  \\\n",
       "0    Thinness  1-19 years                           0.845273   \n",
       "1      Thinness 5-9 years                           0.845175   \n",
       "2                     GDP                           0.845073   \n",
       "3  Percentage expenditure                           0.845065   \n",
       "4           Infant deaths                           0.842042   \n",
       "5       Under-five deaths                           0.841800   \n",
       "\n",
       "   RMSE after dropping col  \n",
       "0                 3.767592  \n",
       "1                 3.768790  \n",
       "2                 3.770029  \n",
       "3                 3.770129  \n",
       "4                 3.806727  \n",
       "5                 3.809645  "
      ]
     },
     "execution_count": 43,
     "metadata": {},
     "output_type": "execute_result"
    }
   ],
   "source": [
    "col_list = [\n",
    "    \"Infant deaths\",\n",
    "    \"Under-five deaths\",\n",
    "    \"Percentage expenditure\",\n",
    "    \"GDP\",\n",
    "    \"Thinness  1-19 years\",\n",
    "    \"Thinness 5-9 years\",\n",
    "]\n",
    "\n",
    "res = treating_multicollinearity(x_train, y_train, col_list)\n",
    "res"
   ]
  },
  {
   "cell_type": "markdown",
   "metadata": {},
   "source": [
    "* Dropping `Under-five deaths` would have the biggest impact on the predictive power of the model.\n",
    "* We'll drop `Thinness  1-19 years` first since it has the least impact."
   ]
  },
  {
   "cell_type": "code",
   "execution_count": 44,
   "metadata": {},
   "outputs": [
    {
     "data": {
      "text/html": [
       "<div>\n",
       "<style scoped>\n",
       "    .dataframe tbody tr th:only-of-type {\n",
       "        vertical-align: middle;\n",
       "    }\n",
       "\n",
       "    .dataframe tbody tr th {\n",
       "        vertical-align: top;\n",
       "    }\n",
       "\n",
       "    .dataframe thead th {\n",
       "        text-align: right;\n",
       "    }\n",
       "</style>\n",
       "<table border=\"1\" class=\"dataframe\">\n",
       "  <thead>\n",
       "    <tr style=\"text-align: right;\">\n",
       "      <th></th>\n",
       "      <th>feature</th>\n",
       "      <th>VIF</th>\n",
       "    </tr>\n",
       "  </thead>\n",
       "  <tbody>\n",
       "    <tr>\n",
       "      <th>0</th>\n",
       "      <td>const</td>\n",
       "      <td>227163.382376</td>\n",
       "    </tr>\n",
       "    <tr>\n",
       "      <th>1</th>\n",
       "      <td>Year</td>\n",
       "      <td>1.191427</td>\n",
       "    </tr>\n",
       "    <tr>\n",
       "      <th>2</th>\n",
       "      <td>Adult Mortality</td>\n",
       "      <td>1.835454</td>\n",
       "    </tr>\n",
       "    <tr>\n",
       "      <th>3</th>\n",
       "      <td>Infant deaths</td>\n",
       "      <td>190.684749</td>\n",
       "    </tr>\n",
       "    <tr>\n",
       "      <th>4</th>\n",
       "      <td>Alcohol</td>\n",
       "      <td>2.465115</td>\n",
       "    </tr>\n",
       "    <tr>\n",
       "      <th>5</th>\n",
       "      <td>Percentage expenditure</td>\n",
       "      <td>5.631131</td>\n",
       "    </tr>\n",
       "    <tr>\n",
       "      <th>6</th>\n",
       "      <td>Hepatitis B</td>\n",
       "      <td>1.322159</td>\n",
       "    </tr>\n",
       "    <tr>\n",
       "      <th>7</th>\n",
       "      <td>Measles</td>\n",
       "      <td>1.432441</td>\n",
       "    </tr>\n",
       "    <tr>\n",
       "      <th>8</th>\n",
       "      <td>BMI</td>\n",
       "      <td>1.920484</td>\n",
       "    </tr>\n",
       "    <tr>\n",
       "      <th>9</th>\n",
       "      <td>Under-five deaths</td>\n",
       "      <td>190.336121</td>\n",
       "    </tr>\n",
       "    <tr>\n",
       "      <th>10</th>\n",
       "      <td>Polio</td>\n",
       "      <td>1.907730</td>\n",
       "    </tr>\n",
       "    <tr>\n",
       "      <th>11</th>\n",
       "      <td>Total expenditure</td>\n",
       "      <td>1.250287</td>\n",
       "    </tr>\n",
       "    <tr>\n",
       "      <th>12</th>\n",
       "      <td>Diphtheria</td>\n",
       "      <td>2.105441</td>\n",
       "    </tr>\n",
       "    <tr>\n",
       "      <th>13</th>\n",
       "      <td>HIV/AIDS</td>\n",
       "      <td>1.569208</td>\n",
       "    </tr>\n",
       "    <tr>\n",
       "      <th>14</th>\n",
       "      <td>GDP</td>\n",
       "      <td>5.870923</td>\n",
       "    </tr>\n",
       "    <tr>\n",
       "      <th>15</th>\n",
       "      <td>Population</td>\n",
       "      <td>1.410503</td>\n",
       "    </tr>\n",
       "    <tr>\n",
       "      <th>16</th>\n",
       "      <td>Thinness 5-9 years</td>\n",
       "      <td>2.298109</td>\n",
       "    </tr>\n",
       "    <tr>\n",
       "      <th>17</th>\n",
       "      <td>Income composition of resources</td>\n",
       "      <td>3.177579</td>\n",
       "    </tr>\n",
       "    <tr>\n",
       "      <th>18</th>\n",
       "      <td>Schooling</td>\n",
       "      <td>3.534092</td>\n",
       "    </tr>\n",
       "    <tr>\n",
       "      <th>19</th>\n",
       "      <td>Status_Developing</td>\n",
       "      <td>2.590815</td>\n",
       "    </tr>\n",
       "    <tr>\n",
       "      <th>20</th>\n",
       "      <td>Continent_Asia</td>\n",
       "      <td>2.239828</td>\n",
       "    </tr>\n",
       "    <tr>\n",
       "      <th>21</th>\n",
       "      <td>Continent_Europe</td>\n",
       "      <td>4.096344</td>\n",
       "    </tr>\n",
       "    <tr>\n",
       "      <th>22</th>\n",
       "      <td>Continent_North America</td>\n",
       "      <td>2.003104</td>\n",
       "    </tr>\n",
       "    <tr>\n",
       "      <th>23</th>\n",
       "      <td>Continent_Oceania</td>\n",
       "      <td>1.625101</td>\n",
       "    </tr>\n",
       "    <tr>\n",
       "      <th>24</th>\n",
       "      <td>Continent_South America</td>\n",
       "      <td>1.622022</td>\n",
       "    </tr>\n",
       "  </tbody>\n",
       "</table>\n",
       "</div>"
      ],
      "text/plain": [
       "                            feature            VIF\n",
       "0                             const  227163.382376\n",
       "1                              Year       1.191427\n",
       "2                   Adult Mortality       1.835454\n",
       "3                     Infant deaths     190.684749\n",
       "4                           Alcohol       2.465115\n",
       "5            Percentage expenditure       5.631131\n",
       "6                       Hepatitis B       1.322159\n",
       "7                           Measles       1.432441\n",
       "8                               BMI       1.920484\n",
       "9                 Under-five deaths     190.336121\n",
       "10                            Polio       1.907730\n",
       "11                Total expenditure       1.250287\n",
       "12                       Diphtheria       2.105441\n",
       "13                         HIV/AIDS       1.569208\n",
       "14                              GDP       5.870923\n",
       "15                       Population       1.410503\n",
       "16               Thinness 5-9 years       2.298109\n",
       "17  Income composition of resources       3.177579\n",
       "18                        Schooling       3.534092\n",
       "19                Status_Developing       2.590815\n",
       "20                   Continent_Asia       2.239828\n",
       "21                 Continent_Europe       4.096344\n",
       "22          Continent_North America       2.003104\n",
       "23                Continent_Oceania       1.625101\n",
       "24          Continent_South America       1.622022"
      ]
     },
     "execution_count": 44,
     "metadata": {},
     "output_type": "execute_result"
    }
   ],
   "source": [
    "col_to_drop = \"Thinness  1-19 years\"\n",
    "x_train2 = x_train.loc[:, ~x_train.columns.str.startswith(col_to_drop)]\n",
    "x_test2 = x_test.loc[:, ~x_test.columns.str.startswith(col_to_drop)]\n",
    "\n",
    "vif = checking_vif(x_train2)\n",
    "vif"
   ]
  },
  {
   "cell_type": "markdown",
   "metadata": {},
   "source": [
    "* Dropping `Thinness  1-19 years` has brought the VIF of `Thinness 5-9 years` below 5.\n",
    "* `Infant deaths` and `Under-five deaths` still have a VIF score of much greater than 5."
   ]
  },
  {
   "cell_type": "code",
   "execution_count": 45,
   "metadata": {},
   "outputs": [
    {
     "data": {
      "text/html": [
       "<div>\n",
       "<style scoped>\n",
       "    .dataframe tbody tr th:only-of-type {\n",
       "        vertical-align: middle;\n",
       "    }\n",
       "\n",
       "    .dataframe tbody tr th {\n",
       "        vertical-align: top;\n",
       "    }\n",
       "\n",
       "    .dataframe thead th {\n",
       "        text-align: right;\n",
       "    }\n",
       "</style>\n",
       "<table border=\"1\" class=\"dataframe\">\n",
       "  <thead>\n",
       "    <tr style=\"text-align: right;\">\n",
       "      <th></th>\n",
       "      <th>col</th>\n",
       "      <th>Adj. R-squared after_dropping col</th>\n",
       "      <th>RMSE after dropping col</th>\n",
       "    </tr>\n",
       "  </thead>\n",
       "  <tbody>\n",
       "    <tr>\n",
       "      <th>0</th>\n",
       "      <td>GDP</td>\n",
       "      <td>0.845139</td>\n",
       "      <td>3.769228</td>\n",
       "    </tr>\n",
       "    <tr>\n",
       "      <th>1</th>\n",
       "      <td>Percentage expenditure</td>\n",
       "      <td>0.845130</td>\n",
       "      <td>3.769338</td>\n",
       "    </tr>\n",
       "    <tr>\n",
       "      <th>2</th>\n",
       "      <td>Infant deaths</td>\n",
       "      <td>0.842119</td>\n",
       "      <td>3.805800</td>\n",
       "    </tr>\n",
       "    <tr>\n",
       "      <th>3</th>\n",
       "      <td>Under-five deaths</td>\n",
       "      <td>0.841876</td>\n",
       "      <td>3.808728</td>\n",
       "    </tr>\n",
       "  </tbody>\n",
       "</table>\n",
       "</div>"
      ],
      "text/plain": [
       "                      col  Adj. R-squared after_dropping col  \\\n",
       "0                     GDP                           0.845139   \n",
       "1  Percentage expenditure                           0.845130   \n",
       "2           Infant deaths                           0.842119   \n",
       "3       Under-five deaths                           0.841876   \n",
       "\n",
       "   RMSE after dropping col  \n",
       "0                 3.769228  \n",
       "1                 3.769338  \n",
       "2                 3.805800  \n",
       "3                 3.808728  "
      ]
     },
     "execution_count": 45,
     "metadata": {},
     "output_type": "execute_result"
    }
   ],
   "source": [
    "col_list = [\n",
    "    \"Infant deaths\",\n",
    "    \"Under-five deaths\",\n",
    "    \"Percentage expenditure\",\n",
    "    \"GDP\",\n",
    "]\n",
    "\n",
    "res = treating_multicollinearity(x_train2, y_train, col_list)\n",
    "res"
   ]
  },
  {
   "cell_type": "markdown",
   "metadata": {},
   "source": [
    "- We will drop `GDP` next."
   ]
  },
  {
   "cell_type": "code",
   "execution_count": 46,
   "metadata": {},
   "outputs": [
    {
     "data": {
      "text/html": [
       "<div>\n",
       "<style scoped>\n",
       "    .dataframe tbody tr th:only-of-type {\n",
       "        vertical-align: middle;\n",
       "    }\n",
       "\n",
       "    .dataframe tbody tr th {\n",
       "        vertical-align: top;\n",
       "    }\n",
       "\n",
       "    .dataframe thead th {\n",
       "        text-align: right;\n",
       "    }\n",
       "</style>\n",
       "<table border=\"1\" class=\"dataframe\">\n",
       "  <thead>\n",
       "    <tr style=\"text-align: right;\">\n",
       "      <th></th>\n",
       "      <th>feature</th>\n",
       "      <th>VIF</th>\n",
       "    </tr>\n",
       "  </thead>\n",
       "  <tbody>\n",
       "    <tr>\n",
       "      <th>0</th>\n",
       "      <td>const</td>\n",
       "      <td>224205.117775</td>\n",
       "    </tr>\n",
       "    <tr>\n",
       "      <th>1</th>\n",
       "      <td>Year</td>\n",
       "      <td>1.175926</td>\n",
       "    </tr>\n",
       "    <tr>\n",
       "      <th>2</th>\n",
       "      <td>Adult Mortality</td>\n",
       "      <td>1.833756</td>\n",
       "    </tr>\n",
       "    <tr>\n",
       "      <th>3</th>\n",
       "      <td>Infant deaths</td>\n",
       "      <td>190.073929</td>\n",
       "    </tr>\n",
       "    <tr>\n",
       "      <th>4</th>\n",
       "      <td>Alcohol</td>\n",
       "      <td>2.454605</td>\n",
       "    </tr>\n",
       "    <tr>\n",
       "      <th>5</th>\n",
       "      <td>Percentage expenditure</td>\n",
       "      <td>1.383310</td>\n",
       "    </tr>\n",
       "    <tr>\n",
       "      <th>6</th>\n",
       "      <td>Hepatitis B</td>\n",
       "      <td>1.321552</td>\n",
       "    </tr>\n",
       "    <tr>\n",
       "      <th>7</th>\n",
       "      <td>Measles</td>\n",
       "      <td>1.432193</td>\n",
       "    </tr>\n",
       "    <tr>\n",
       "      <th>8</th>\n",
       "      <td>BMI</td>\n",
       "      <td>1.914150</td>\n",
       "    </tr>\n",
       "    <tr>\n",
       "      <th>9</th>\n",
       "      <td>Under-five deaths</td>\n",
       "      <td>189.710454</td>\n",
       "    </tr>\n",
       "    <tr>\n",
       "      <th>10</th>\n",
       "      <td>Polio</td>\n",
       "      <td>1.905124</td>\n",
       "    </tr>\n",
       "    <tr>\n",
       "      <th>11</th>\n",
       "      <td>Total expenditure</td>\n",
       "      <td>1.228239</td>\n",
       "    </tr>\n",
       "    <tr>\n",
       "      <th>12</th>\n",
       "      <td>Diphtheria</td>\n",
       "      <td>2.105384</td>\n",
       "    </tr>\n",
       "    <tr>\n",
       "      <th>13</th>\n",
       "      <td>HIV/AIDS</td>\n",
       "      <td>1.566821</td>\n",
       "    </tr>\n",
       "    <tr>\n",
       "      <th>14</th>\n",
       "      <td>Population</td>\n",
       "      <td>1.410490</td>\n",
       "    </tr>\n",
       "    <tr>\n",
       "      <th>15</th>\n",
       "      <td>Thinness 5-9 years</td>\n",
       "      <td>2.289516</td>\n",
       "    </tr>\n",
       "    <tr>\n",
       "      <th>16</th>\n",
       "      <td>Income composition of resources</td>\n",
       "      <td>3.166265</td>\n",
       "    </tr>\n",
       "    <tr>\n",
       "      <th>17</th>\n",
       "      <td>Schooling</td>\n",
       "      <td>3.523918</td>\n",
       "    </tr>\n",
       "    <tr>\n",
       "      <th>18</th>\n",
       "      <td>Status_Developing</td>\n",
       "      <td>2.580709</td>\n",
       "    </tr>\n",
       "    <tr>\n",
       "      <th>19</th>\n",
       "      <td>Continent_Asia</td>\n",
       "      <td>2.221620</td>\n",
       "    </tr>\n",
       "    <tr>\n",
       "      <th>20</th>\n",
       "      <td>Continent_Europe</td>\n",
       "      <td>4.096308</td>\n",
       "    </tr>\n",
       "    <tr>\n",
       "      <th>21</th>\n",
       "      <td>Continent_North America</td>\n",
       "      <td>2.003063</td>\n",
       "    </tr>\n",
       "    <tr>\n",
       "      <th>22</th>\n",
       "      <td>Continent_Oceania</td>\n",
       "      <td>1.617673</td>\n",
       "    </tr>\n",
       "    <tr>\n",
       "      <th>23</th>\n",
       "      <td>Continent_South America</td>\n",
       "      <td>1.621238</td>\n",
       "    </tr>\n",
       "  </tbody>\n",
       "</table>\n",
       "</div>"
      ],
      "text/plain": [
       "                            feature            VIF\n",
       "0                             const  224205.117775\n",
       "1                              Year       1.175926\n",
       "2                   Adult Mortality       1.833756\n",
       "3                     Infant deaths     190.073929\n",
       "4                           Alcohol       2.454605\n",
       "5            Percentage expenditure       1.383310\n",
       "6                       Hepatitis B       1.321552\n",
       "7                           Measles       1.432193\n",
       "8                               BMI       1.914150\n",
       "9                 Under-five deaths     189.710454\n",
       "10                            Polio       1.905124\n",
       "11                Total expenditure       1.228239\n",
       "12                       Diphtheria       2.105384\n",
       "13                         HIV/AIDS       1.566821\n",
       "14                       Population       1.410490\n",
       "15               Thinness 5-9 years       2.289516\n",
       "16  Income composition of resources       3.166265\n",
       "17                        Schooling       3.523918\n",
       "18                Status_Developing       2.580709\n",
       "19                   Continent_Asia       2.221620\n",
       "20                 Continent_Europe       4.096308\n",
       "21          Continent_North America       2.003063\n",
       "22                Continent_Oceania       1.617673\n",
       "23          Continent_South America       1.621238"
      ]
     },
     "execution_count": 46,
     "metadata": {},
     "output_type": "execute_result"
    }
   ],
   "source": [
    "col_to_drop = \"GDP\"\n",
    "x_train3 = x_train2.loc[:, ~x_train2.columns.str.startswith(col_to_drop)]\n",
    "x_test3 = x_test2.loc[:, ~x_test2.columns.str.startswith(col_to_drop)]\n",
    "\n",
    "vif = checking_vif(x_train3)\n",
    "vif"
   ]
  },
  {
   "cell_type": "markdown",
   "metadata": {},
   "source": [
    "* Dropping `GDP` has brought the VIF of `Percentage expenditure` below 5.\n",
    "* `Infant deaths` and `Under-five deaths` still have a VIF score of much greater than 5."
   ]
  },
  {
   "cell_type": "code",
   "execution_count": 47,
   "metadata": {},
   "outputs": [
    {
     "data": {
      "text/html": [
       "<div>\n",
       "<style scoped>\n",
       "    .dataframe tbody tr th:only-of-type {\n",
       "        vertical-align: middle;\n",
       "    }\n",
       "\n",
       "    .dataframe tbody tr th {\n",
       "        vertical-align: top;\n",
       "    }\n",
       "\n",
       "    .dataframe thead th {\n",
       "        text-align: right;\n",
       "    }\n",
       "</style>\n",
       "<table border=\"1\" class=\"dataframe\">\n",
       "  <thead>\n",
       "    <tr style=\"text-align: right;\">\n",
       "      <th></th>\n",
       "      <th>col</th>\n",
       "      <th>Adj. R-squared after_dropping col</th>\n",
       "      <th>RMSE after dropping col</th>\n",
       "    </tr>\n",
       "  </thead>\n",
       "  <tbody>\n",
       "    <tr>\n",
       "      <th>0</th>\n",
       "      <td>Infant deaths</td>\n",
       "      <td>0.842069</td>\n",
       "      <td>3.806404</td>\n",
       "    </tr>\n",
       "    <tr>\n",
       "      <th>1</th>\n",
       "      <td>Under-five deaths</td>\n",
       "      <td>0.841830</td>\n",
       "      <td>3.809287</td>\n",
       "    </tr>\n",
       "  </tbody>\n",
       "</table>\n",
       "</div>"
      ],
      "text/plain": [
       "                 col  Adj. R-squared after_dropping col  \\\n",
       "0      Infant deaths                           0.842069   \n",
       "1  Under-five deaths                           0.841830   \n",
       "\n",
       "   RMSE after dropping col  \n",
       "0                 3.806404  \n",
       "1                 3.809287  "
      ]
     },
     "execution_count": 47,
     "metadata": {},
     "output_type": "execute_result"
    }
   ],
   "source": [
    "col_list = [\n",
    "    \"Infant deaths\",\n",
    "    \"Under-five deaths\",\n",
    "]\n",
    "\n",
    "res = treating_multicollinearity(x_train3, y_train, col_list)\n",
    "res"
   ]
  },
  {
   "cell_type": "markdown",
   "metadata": {},
   "source": [
    "- We will drop `Infant deaths` next."
   ]
  },
  {
   "cell_type": "code",
   "execution_count": 48,
   "metadata": {},
   "outputs": [
    {
     "data": {
      "text/html": [
       "<div>\n",
       "<style scoped>\n",
       "    .dataframe tbody tr th:only-of-type {\n",
       "        vertical-align: middle;\n",
       "    }\n",
       "\n",
       "    .dataframe tbody tr th {\n",
       "        vertical-align: top;\n",
       "    }\n",
       "\n",
       "    .dataframe thead th {\n",
       "        text-align: right;\n",
       "    }\n",
       "</style>\n",
       "<table border=\"1\" class=\"dataframe\">\n",
       "  <thead>\n",
       "    <tr style=\"text-align: right;\">\n",
       "      <th></th>\n",
       "      <th>feature</th>\n",
       "      <th>VIF</th>\n",
       "    </tr>\n",
       "  </thead>\n",
       "  <tbody>\n",
       "    <tr>\n",
       "      <th>0</th>\n",
       "      <td>const</td>\n",
       "      <td>224187.636224</td>\n",
       "    </tr>\n",
       "    <tr>\n",
       "      <th>1</th>\n",
       "      <td>Year</td>\n",
       "      <td>1.175885</td>\n",
       "    </tr>\n",
       "    <tr>\n",
       "      <th>2</th>\n",
       "      <td>Adult Mortality</td>\n",
       "      <td>1.833601</td>\n",
       "    </tr>\n",
       "    <tr>\n",
       "      <th>3</th>\n",
       "      <td>Alcohol</td>\n",
       "      <td>2.426863</td>\n",
       "    </tr>\n",
       "    <tr>\n",
       "      <th>4</th>\n",
       "      <td>Percentage expenditure</td>\n",
       "      <td>1.382397</td>\n",
       "    </tr>\n",
       "    <tr>\n",
       "      <th>5</th>\n",
       "      <td>Hepatitis B</td>\n",
       "      <td>1.316589</td>\n",
       "    </tr>\n",
       "    <tr>\n",
       "      <th>6</th>\n",
       "      <td>Measles</td>\n",
       "      <td>1.432191</td>\n",
       "    </tr>\n",
       "    <tr>\n",
       "      <th>7</th>\n",
       "      <td>BMI</td>\n",
       "      <td>1.913549</td>\n",
       "    </tr>\n",
       "    <tr>\n",
       "      <th>8</th>\n",
       "      <td>Under-five deaths</td>\n",
       "      <td>2.219838</td>\n",
       "    </tr>\n",
       "    <tr>\n",
       "      <th>9</th>\n",
       "      <td>Polio</td>\n",
       "      <td>1.897319</td>\n",
       "    </tr>\n",
       "    <tr>\n",
       "      <th>10</th>\n",
       "      <td>Total expenditure</td>\n",
       "      <td>1.227935</td>\n",
       "    </tr>\n",
       "    <tr>\n",
       "      <th>11</th>\n",
       "      <td>Diphtheria</td>\n",
       "      <td>2.085718</td>\n",
       "    </tr>\n",
       "    <tr>\n",
       "      <th>12</th>\n",
       "      <td>HIV/AIDS</td>\n",
       "      <td>1.566659</td>\n",
       "    </tr>\n",
       "    <tr>\n",
       "      <th>13</th>\n",
       "      <td>Population</td>\n",
       "      <td>1.400031</td>\n",
       "    </tr>\n",
       "    <tr>\n",
       "      <th>14</th>\n",
       "      <td>Thinness 5-9 years</td>\n",
       "      <td>2.276925</td>\n",
       "    </tr>\n",
       "    <tr>\n",
       "      <th>15</th>\n",
       "      <td>Income composition of resources</td>\n",
       "      <td>3.149154</td>\n",
       "    </tr>\n",
       "    <tr>\n",
       "      <th>16</th>\n",
       "      <td>Schooling</td>\n",
       "      <td>3.523843</td>\n",
       "    </tr>\n",
       "    <tr>\n",
       "      <th>17</th>\n",
       "      <td>Status_Developing</td>\n",
       "      <td>2.580706</td>\n",
       "    </tr>\n",
       "    <tr>\n",
       "      <th>18</th>\n",
       "      <td>Continent_Asia</td>\n",
       "      <td>2.113664</td>\n",
       "    </tr>\n",
       "    <tr>\n",
       "      <th>19</th>\n",
       "      <td>Continent_Europe</td>\n",
       "      <td>4.016625</td>\n",
       "    </tr>\n",
       "    <tr>\n",
       "      <th>20</th>\n",
       "      <td>Continent_North America</td>\n",
       "      <td>1.955165</td>\n",
       "    </tr>\n",
       "    <tr>\n",
       "      <th>21</th>\n",
       "      <td>Continent_Oceania</td>\n",
       "      <td>1.592618</td>\n",
       "    </tr>\n",
       "    <tr>\n",
       "      <th>22</th>\n",
       "      <td>Continent_South America</td>\n",
       "      <td>1.584544</td>\n",
       "    </tr>\n",
       "  </tbody>\n",
       "</table>\n",
       "</div>"
      ],
      "text/plain": [
       "                            feature            VIF\n",
       "0                             const  224187.636224\n",
       "1                              Year       1.175885\n",
       "2                   Adult Mortality       1.833601\n",
       "3                           Alcohol       2.426863\n",
       "4            Percentage expenditure       1.382397\n",
       "5                       Hepatitis B       1.316589\n",
       "6                           Measles       1.432191\n",
       "7                               BMI       1.913549\n",
       "8                 Under-five deaths       2.219838\n",
       "9                             Polio       1.897319\n",
       "10                Total expenditure       1.227935\n",
       "11                       Diphtheria       2.085718\n",
       "12                         HIV/AIDS       1.566659\n",
       "13                       Population       1.400031\n",
       "14               Thinness 5-9 years       2.276925\n",
       "15  Income composition of resources       3.149154\n",
       "16                        Schooling       3.523843\n",
       "17                Status_Developing       2.580706\n",
       "18                   Continent_Asia       2.113664\n",
       "19                 Continent_Europe       4.016625\n",
       "20          Continent_North America       1.955165\n",
       "21                Continent_Oceania       1.592618\n",
       "22          Continent_South America       1.584544"
      ]
     },
     "execution_count": 48,
     "metadata": {},
     "output_type": "execute_result"
    }
   ],
   "source": [
    "col_to_drop = \"Infant deaths\"\n",
    "x_train4 = x_train3.loc[:, ~x_train3.columns.str.startswith(col_to_drop)]\n",
    "x_test4 = x_test3.loc[:, ~x_test3.columns.str.startswith(col_to_drop)]\n",
    "\n",
    "vif = checking_vif(x_train4)\n",
    "vif"
   ]
  },
  {
   "cell_type": "markdown",
   "metadata": {
    "id": "bAZRVvxaqH9G"
   },
   "source": [
    "- Multicollinearity has been removed."
   ]
  },
  {
   "cell_type": "code",
   "execution_count": 49,
   "metadata": {},
   "outputs": [
    {
     "name": "stdout",
     "output_type": "stream",
     "text": [
      "                            OLS Regression Results                            \n",
      "==============================================================================\n",
      "Dep. Variable:        Life expectancy   R-squared:                       0.844\n",
      "Model:                            OLS   Adj. R-squared:                  0.842\n",
      "Method:                 Least Squares   F-statistic:                     497.3\n",
      "Date:                Sun, 05 Mar 2023   Prob (F-statistic):               0.00\n",
      "Time:                        17:27:15   Log-Likelihood:                -5634.7\n",
      "No. Observations:                2049   AIC:                         1.132e+04\n",
      "Df Residuals:                    2026   BIC:                         1.144e+04\n",
      "Df Model:                          22                                         \n",
      "Covariance Type:            nonrobust                                         \n",
      "===================================================================================================\n",
      "                                      coef    std err          t      P>|t|      [0.025      0.975]\n",
      "---------------------------------------------------------------------------------------------------\n",
      "const                             -19.5814     39.815     -0.492      0.623     -97.665      58.502\n",
      "Year                                0.0377      0.020      1.898      0.058      -0.001       0.077\n",
      "Adult Mortality                    -0.0163      0.001    -17.884      0.000      -0.018      -0.014\n",
      "Alcohol                            -0.0763      0.034     -2.276      0.023      -0.142      -0.011\n",
      "Percentage expenditure              0.0003   4.97e-05      6.107      0.000       0.000       0.000\n",
      "Hepatitis B                        -0.0160      0.004     -3.727      0.000      -0.024      -0.008\n",
      "Measles                         -1.569e-05   9.36e-06     -1.676      0.094    -3.4e-05    2.67e-06\n",
      "BMI                                 0.0338      0.006      5.718      0.000       0.022       0.045\n",
      "Under-five deaths                  -0.0020      0.001     -2.537      0.011      -0.004      -0.000\n",
      "Polio                               0.0346      0.005      6.963      0.000       0.025       0.044\n",
      "Total expenditure                  -0.0107      0.039     -0.272      0.786      -0.088       0.066\n",
      "Diphtheria                          0.0341      0.005      6.603      0.000       0.024       0.044\n",
      "HIV/AIDS                           -0.3807      0.021    -18.501      0.000      -0.421      -0.340\n",
      "Population                       1.563e-09   2.32e-09      0.673      0.501   -2.99e-09    6.12e-09\n",
      "Thinness 5-9 years                 -0.0827      0.029     -2.825      0.005      -0.140      -0.025\n",
      "Income composition of resources     4.4975      0.725      6.205      0.000       3.076       5.919\n",
      "Schooling                           0.6216      0.048     12.830      0.000       0.527       0.717\n",
      "Status_Developing                  -2.6187      0.355     -7.369      0.000      -3.316      -1.922\n",
      "Continent_Asia                      4.7377      0.282     16.821      0.000       4.185       5.290\n",
      "Continent_Europe                    4.3452      0.412     10.535      0.000       3.536       5.154\n",
      "Continent_North America             6.2346      0.364     17.113      0.000       5.520       6.949\n",
      "Continent_Oceania                   2.7528      0.457      6.019      0.000       1.856       3.650\n",
      "Continent_South America             4.3656      0.444      9.834      0.000       3.495       5.236\n",
      "==============================================================================\n",
      "Omnibus:                       79.888   Durbin-Watson:                   2.013\n",
      "Prob(Omnibus):                  0.000   Jarque-Bera (JB):              213.118\n",
      "Skew:                          -0.140   Prob(JB):                     5.27e-47\n",
      "Kurtosis:                       4.555   Cond. No.                     2.07e+10\n",
      "==============================================================================\n",
      "\n",
      "Notes:\n",
      "[1] Standard Errors assume that the covariance matrix of the errors is correctly specified.\n",
      "[2] The condition number is large, 2.07e+10. This might indicate that there are\n",
      "strong multicollinearity or other numerical problems.\n"
     ]
    }
   ],
   "source": [
    "olsmod1 = sm.OLS(y_train, x_train4).fit()\n",
    "print(olsmod1.summary())"
   ]
  },
  {
   "cell_type": "markdown",
   "metadata": {
    "id": "ccsFJFYoqH9J"
   },
   "source": [
    "- Adj. R-squared has only dropped from 0.845 to 0.842. It is a slight decrease.\n",
    "- Next we will look at the p-values."
   ]
  },
  {
   "cell_type": "code",
   "execution_count": 50,
   "metadata": {},
   "outputs": [
    {
     "name": "stdout",
     "output_type": "stream",
     "text": [
      "['Year', 'Adult Mortality', 'Alcohol', 'Percentage expenditure', 'Hepatitis B', 'BMI', 'Under-five deaths', 'Polio', 'Diphtheria', 'HIV/AIDS', 'Thinness 5-9 years', 'Income composition of resources', 'Schooling', 'Status_Developing', 'Continent_Asia', 'Continent_Europe', 'Continent_North America', 'Continent_Oceania', 'Continent_South America']\n"
     ]
    }
   ],
   "source": [
    "# initial list of columns\n",
    "cols = x_train4.columns.tolist()\n",
    "\n",
    "# setting an initial max p-value\n",
    "max_p_value = 1\n",
    "\n",
    "while len(cols) > 0:\n",
    "    # defining the train set\n",
    "    x_train_aux = x_train4[cols]\n",
    "\n",
    "    # fitting the model\n",
    "    model = sm.OLS(y_train, x_train_aux).fit()\n",
    "\n",
    "    # getting the p-values and the maximum p-value\n",
    "    p_values = model.pvalues\n",
    "    max_p_value = max(p_values)\n",
    "\n",
    "    # name of the variable with maximum p-value\n",
    "    feature_with_p_max = p_values.idxmax()\n",
    "\n",
    "    if max_p_value > 0.05:\n",
    "        cols.remove(feature_with_p_max)\n",
    "    else:\n",
    "        break\n",
    "\n",
    "selected_features = cols\n",
    "print(selected_features)"
   ]
  },
  {
   "cell_type": "code",
   "execution_count": 51,
   "metadata": {
    "id": "s4fj6umDqH9N"
   },
   "outputs": [],
   "source": [
    "x_train5 = x_train4[[\"const\"] + selected_features]\n",
    "x_test5 = x_test4[[\"const\"] + selected_features]"
   ]
  },
  {
   "cell_type": "code",
   "execution_count": 52,
   "metadata": {
    "id": "jCDUCG6_qH9R",
    "outputId": "36bd62fd-e8e5-4ba6-da6b-69c34573dff3"
   },
   "outputs": [
    {
     "name": "stdout",
     "output_type": "stream",
     "text": [
      "                            OLS Regression Results                            \n",
      "==============================================================================\n",
      "Dep. Variable:        Life expectancy   R-squared:                       0.843\n",
      "Model:                            OLS   Adj. R-squared:                  0.842\n",
      "Method:                 Least Squares   F-statistic:                     575.6\n",
      "Date:                Sun, 05 Mar 2023   Prob (F-statistic):               0.00\n",
      "Time:                        17:27:22   Log-Likelihood:                -5636.5\n",
      "No. Observations:                2049   AIC:                         1.131e+04\n",
      "Df Residuals:                    2029   BIC:                         1.143e+04\n",
      "Df Model:                          19                                         \n",
      "Covariance Type:            nonrobust                                         \n",
      "===================================================================================================\n",
      "                                      coef    std err          t      P>|t|      [0.025      0.975]\n",
      "---------------------------------------------------------------------------------------------------\n",
      "const                             -23.1832     39.635     -0.585      0.559    -100.913      54.547\n",
      "Year                                0.0395      0.020      1.994      0.046       0.001       0.078\n",
      "Adult Mortality                    -0.0162      0.001    -17.819      0.000      -0.018      -0.014\n",
      "Alcohol                            -0.0801      0.033     -2.395      0.017      -0.146      -0.015\n",
      "Percentage expenditure              0.0003   4.96e-05      6.128      0.000       0.000       0.000\n",
      "Hepatitis B                        -0.0163      0.004     -3.821      0.000      -0.025      -0.008\n",
      "BMI                                 0.0346      0.006      5.860      0.000       0.023       0.046\n",
      "Under-five deaths                  -0.0023      0.001     -3.794      0.000      -0.004      -0.001\n",
      "Polio                               0.0346      0.005      6.960      0.000       0.025       0.044\n",
      "Diphtheria                          0.0344      0.005      6.688      0.000       0.024       0.045\n",
      "HIV/AIDS                           -0.3813      0.020    -18.604      0.000      -0.422      -0.341\n",
      "Thinness 5-9 years                 -0.0777      0.029     -2.669      0.008      -0.135      -0.021\n",
      "Income composition of resources     4.5468      0.721      6.302      0.000       3.132       5.962\n",
      "Schooling                           0.6184      0.048     12.789      0.000       0.524       0.713\n",
      "Status_Developing                  -2.6234      0.353     -7.442      0.000      -3.315      -1.932\n",
      "Continent_Asia                      4.7406      0.281     16.862      0.000       4.189       5.292\n",
      "Continent_Europe                    4.3902      0.411     10.694      0.000       3.585       5.195\n",
      "Continent_North America             6.2753      0.360     17.417      0.000       5.569       6.982\n",
      "Continent_Oceania                   2.7757      0.456      6.089      0.000       1.882       3.670\n",
      "Continent_South America             4.4261      0.440     10.062      0.000       3.563       5.289\n",
      "==============================================================================\n",
      "Omnibus:                       80.001   Durbin-Watson:                   2.014\n",
      "Prob(Omnibus):                  0.000   Jarque-Bera (JB):              214.140\n",
      "Skew:                          -0.138   Prob(JB):                     3.16e-47\n",
      "Kurtosis:                       4.559   Cond. No.                     1.14e+06\n",
      "==============================================================================\n",
      "\n",
      "Notes:\n",
      "[1] Standard Errors assume that the covariance matrix of the errors is correctly specified.\n",
      "[2] The condition number is large, 1.14e+06. This might indicate that there are\n",
      "strong multicollinearity or other numerical problems.\n"
     ]
    }
   ],
   "source": [
    "olsmod2 = sm.OLS(y_train, x_train5).fit()\n",
    "print(olsmod2.summary())"
   ]
  },
  {
   "cell_type": "markdown",
   "metadata": {
    "id": "-A_zflLwqH9y"
   },
   "source": [
    "**Now no feature (other than the constant) has p-value greater than 0.05, so we'll consider the features in *x_train5* as the final set of predictor variables and *olsmod2* as final model.**"
   ]
  },
  {
   "cell_type": "markdown",
   "metadata": {
    "id": "85AyhdAfqH9z"
   },
   "source": [
    "* Now adjusted R-squared is 0.842, it means that the model is able to explain ~84% of the variance. This shows that the model is good.\n",
    "* The adjusted R-squared in *olsmod0* (where we considered all the variables) was 0.845. This shows that the variables we dropped were not affecting the model much."
   ]
  },
  {
   "cell_type": "markdown",
   "metadata": {
    "id": "MnOY6E5uqH-C"
   },
   "source": [
    "#### Test for linearity and independence\n"
   ]
  },
  {
   "cell_type": "code",
   "execution_count": 53,
   "metadata": {},
   "outputs": [
    {
     "data": {
      "text/html": [
       "<div>\n",
       "<style scoped>\n",
       "    .dataframe tbody tr th:only-of-type {\n",
       "        vertical-align: middle;\n",
       "    }\n",
       "\n",
       "    .dataframe tbody tr th {\n",
       "        vertical-align: top;\n",
       "    }\n",
       "\n",
       "    .dataframe thead th {\n",
       "        text-align: right;\n",
       "    }\n",
       "</style>\n",
       "<table border=\"1\" class=\"dataframe\">\n",
       "  <thead>\n",
       "    <tr style=\"text-align: right;\">\n",
       "      <th></th>\n",
       "      <th>Actual Values</th>\n",
       "      <th>Fitted Values</th>\n",
       "      <th>Residuals</th>\n",
       "    </tr>\n",
       "  </thead>\n",
       "  <tbody>\n",
       "    <tr>\n",
       "      <th>608</th>\n",
       "      <td>64.7</td>\n",
       "      <td>58.396287</td>\n",
       "      <td>6.303713</td>\n",
       "    </tr>\n",
       "    <tr>\n",
       "      <th>348</th>\n",
       "      <td>46.4</td>\n",
       "      <td>46.844307</td>\n",
       "      <td>-0.444307</td>\n",
       "    </tr>\n",
       "    <tr>\n",
       "      <th>1410</th>\n",
       "      <td>71.1</td>\n",
       "      <td>72.897591</td>\n",
       "      <td>-1.797591</td>\n",
       "    </tr>\n",
       "    <tr>\n",
       "      <th>1730</th>\n",
       "      <td>63.2</td>\n",
       "      <td>68.012416</td>\n",
       "      <td>-4.812416</td>\n",
       "    </tr>\n",
       "    <tr>\n",
       "      <th>612</th>\n",
       "      <td>62.9</td>\n",
       "      <td>61.834162</td>\n",
       "      <td>1.065838</td>\n",
       "    </tr>\n",
       "  </tbody>\n",
       "</table>\n",
       "</div>"
      ],
      "text/plain": [
       "      Actual Values  Fitted Values  Residuals\n",
       "608            64.7      58.396287   6.303713\n",
       "348            46.4      46.844307  -0.444307\n",
       "1410           71.1      72.897591  -1.797591\n",
       "1730           63.2      68.012416  -4.812416\n",
       "612            62.9      61.834162   1.065838"
      ]
     },
     "execution_count": 53,
     "metadata": {},
     "output_type": "execute_result"
    }
   ],
   "source": [
    "df_pred = pd.DataFrame()\n",
    "\n",
    "df_pred[\"Actual Values\"] = y_train  \n",
    "df_pred[\"Fitted Values\"] = olsmod2.fittedvalues  \n",
    "df_pred[\"Residuals\"] = olsmod2.resid  \n",
    "\n",
    "df_pred.head()"
   ]
  },
  {
   "cell_type": "code",
   "execution_count": 54,
   "metadata": {
    "id": "NJ4ivHQiqH-G",
    "outputId": "bd7a8d63-6821-4230-d7ec-fad6c25347b5"
   },
   "outputs": [
    {
     "data": {
      "image/png": "[encoded data removed]",
      "text/plain": [
       "<Figure size 432x288 with 1 Axes>"
      ]
     },
     "metadata": {
      "needs_background": "light"
     },
     "output_type": "display_data"
    }
   ],
   "source": [
    "# plotting the fitted values vs residuals\n",
    "\n",
    "sns.residplot(\n",
    "    data=df_pred, x=\"Fitted Values\", y=\"Residuals\", color=\"purple\", lowess=True\n",
    ")\n",
    "plt.xlabel(\"Fitted Values\")\n",
    "plt.ylabel(\"Residuals\")\n",
    "plt.title(\"Fitted vs Residual plot\")\n",
    "plt.show()"
   ]
  },
  {
   "cell_type": "markdown",
   "metadata": {
    "id": "bdVdvRegqH-M"
   },
   "source": [
    "* We see no pattern in the graph above. Therefore, the assumptions of linearity and independence are satisfied."
   ]
  },
  {
   "cell_type": "markdown",
   "metadata": {
    "id": "VOxf_qsQqH-N"
   },
   "source": [
    "#### Test for normality"
   ]
  },
  {
   "cell_type": "code",
   "execution_count": 55,
   "metadata": {
    "id": "MUdQ6XJLqH-N",
    "outputId": "9ba40f22-648a-4cbe-f898-53a580e29dce"
   },
   "outputs": [
    {
     "data": {
      "image/png": "[encoded data removed]",
      "text/plain": [
       "<Figure size 432x288 with 1 Axes>"
      ]
     },
     "metadata": {
      "needs_background": "light"
     },
     "output_type": "display_data"
    }
   ],
   "source": [
    "sns.histplot(data=df_pred, x=\"Residuals\", kde=True)\n",
    "plt.title(\"Normality of residuals\")\n",
    "plt.show()"
   ]
  },
  {
   "cell_type": "markdown",
   "metadata": {
    "id": "S9YQpkZ-qH-Q"
   },
   "source": [
    "- The histogram of residuals does have a bell shape.\n",
    "- Let's check the Q-Q plot."
   ]
  },
  {
   "cell_type": "code",
   "execution_count": 56,
   "metadata": {
    "id": "Wj8y7-1nqH-Q",
    "outputId": "d262cf84-08cd-402e-a0a5-20e71588d8f7"
   },
   "outputs": [
    {
     "data": {
      "image/png": "[encoded data removed]",
      "text/plain": [
       "<Figure size 432x288 with 1 Axes>"
      ]
     },
     "metadata": {
      "needs_background": "light"
     },
     "output_type": "display_data"
    }
   ],
   "source": [
    "import pylab\n",
    "import scipy.stats as stats\n",
    "\n",
    "stats.probplot(df_pred[\"Residuals\"], dist=\"norm\", plot=pylab)\n",
    "plt.show()"
   ]
  },
  {
   "cell_type": "markdown",
   "metadata": {},
   "source": [
    "- The residuals more or less follow a straight line except for the tails.\n",
    "- Let's check the results of the Shapiro-Wilk test."
   ]
  },
  {
   "cell_type": "code",
   "execution_count": 57,
   "metadata": {
    "id": "b1LIATpBqH-U",
    "outputId": "3a4bc583-d2d0-4bac-ef60-0bc2e2771701"
   },
   "outputs": [
    {
     "data": {
      "text/plain": [
       "ShapiroResult(statistic=0.9869108200073242, pvalue=9.740090678445057e-13)"
      ]
     },
     "execution_count": 57,
     "metadata": {},
     "output_type": "execute_result"
    }
   ],
   "source": [
    "stats.shapiro(df_pred[\"Residuals\"])"
   ]
  },
  {
   "cell_type": "markdown",
   "metadata": {
    "id": "TD0BLsvSqH-Z"
   },
   "source": [
    "- P-value is less than 0.05, the residuals are not normally distributed per Shapiro-Wilk test.\n",
    "- However, based on the graphs, as an approximation, we can accept this distribution as close to being normal.\n",
    "- So, the assumption is satisfied."
   ]
  },
  {
   "cell_type": "markdown",
   "metadata": {
    "id": "6gZ4GKY_qH-Z"
   },
   "source": [
    "#### Test for Homoscedascity"
   ]
  },
  {
   "cell_type": "code",
   "execution_count": 58,
   "metadata": {
    "id": "naX-iXItqH-b",
    "outputId": "f14ec806-2d69-4edd-cace-5000b59ff2dc"
   },
   "outputs": [
    {
     "data": {
      "text/plain": [
       "[('F statistic', 0.9830406677988949), ('p-value', 0.6067961354027434)]"
      ]
     },
     "execution_count": 58,
     "metadata": {},
     "output_type": "execute_result"
    }
   ],
   "source": [
    "import statsmodels.stats.api as sms\n",
    "from statsmodels.compat import lzip\n",
    "\n",
    "name = [\"F statistic\", \"p-value\"]\n",
    "test = sms.het_goldfeldquandt(df_pred[\"Residuals\"], x_train5)\n",
    "lzip(name, test)"
   ]
  },
  {
   "cell_type": "markdown",
   "metadata": {
    "id": "hzmt1AqYqH-d"
   },
   "source": [
    "- Since p-value > 0.05, we can say that the residuals are homoscedastic. So, this assumption is satisfied."
   ]
  },
  {
   "cell_type": "markdown",
   "metadata": {
    "id": "wbnr4QViqH-e"
   },
   "source": [
    "**All the assumptions are satisfied.**\n",
    "**And we have a final model**"
   ]
  },
  {
   "cell_type": "code",
   "execution_count": 59,
   "metadata": {
    "colab": {
     "base_uri": "https://localhost:8080/",
     "height": 419
    },
    "id": "PAtayJx4Ge75",
    "outputId": "e875ee15-fa60-469a-d0a2-de40ef383228"
   },
   "outputs": [
    {
     "data": {
      "text/html": [
       "<div>\n",
       "<style scoped>\n",
       "    .dataframe tbody tr th:only-of-type {\n",
       "        vertical-align: middle;\n",
       "    }\n",
       "\n",
       "    .dataframe tbody tr th {\n",
       "        vertical-align: top;\n",
       "    }\n",
       "\n",
       "    .dataframe thead th {\n",
       "        text-align: right;\n",
       "    }\n",
       "</style>\n",
       "<table border=\"1\" class=\"dataframe\">\n",
       "  <thead>\n",
       "    <tr style=\"text-align: right;\">\n",
       "      <th></th>\n",
       "      <th>Actual</th>\n",
       "      <th>Predicted</th>\n",
       "    </tr>\n",
       "  </thead>\n",
       "  <tbody>\n",
       "    <tr>\n",
       "      <th>45</th>\n",
       "      <td>71.6</td>\n",
       "      <td>66.185783</td>\n",
       "    </tr>\n",
       "    <tr>\n",
       "      <th>1294</th>\n",
       "      <td>79.9</td>\n",
       "      <td>79.784195</td>\n",
       "    </tr>\n",
       "    <tr>\n",
       "      <th>187</th>\n",
       "      <td>75.2</td>\n",
       "      <td>75.787198</td>\n",
       "    </tr>\n",
       "    <tr>\n",
       "      <th>661</th>\n",
       "      <td>78.8</td>\n",
       "      <td>78.745847</td>\n",
       "    </tr>\n",
       "    <tr>\n",
       "      <th>2788</th>\n",
       "      <td>52.2</td>\n",
       "      <td>55.639856</td>\n",
       "    </tr>\n",
       "    <tr>\n",
       "      <th>151</th>\n",
       "      <td>73.0</td>\n",
       "      <td>72.287647</td>\n",
       "    </tr>\n",
       "    <tr>\n",
       "      <th>2845</th>\n",
       "      <td>71.4</td>\n",
       "      <td>67.126506</td>\n",
       "    </tr>\n",
       "    <tr>\n",
       "      <th>1639</th>\n",
       "      <td>83.0</td>\n",
       "      <td>78.023254</td>\n",
       "    </tr>\n",
       "    <tr>\n",
       "      <th>393</th>\n",
       "      <td>72.2</td>\n",
       "      <td>73.905880</td>\n",
       "    </tr>\n",
       "    <tr>\n",
       "      <th>1607</th>\n",
       "      <td>76.7</td>\n",
       "      <td>71.833115</td>\n",
       "    </tr>\n",
       "  </tbody>\n",
       "</table>\n",
       "</div>"
      ],
      "text/plain": [
       "      Actual  Predicted\n",
       "45      71.6  66.185783\n",
       "1294    79.9  79.784195\n",
       "187     75.2  75.787198\n",
       "661     78.8  78.745847\n",
       "2788    52.2  55.639856\n",
       "151     73.0  72.287647\n",
       "2845    71.4  67.126506\n",
       "1639    83.0  78.023254\n",
       "393     72.2  73.905880\n",
       "1607    76.7  71.833115"
      ]
     },
     "execution_count": 59,
     "metadata": {},
     "output_type": "execute_result"
    }
   ],
   "source": [
    "# predictions on the test set\n",
    "pred = olsmod2.predict(x_test5)\n",
    "\n",
    "df_pred_test = pd.DataFrame({\"Actual\": y_test, \"Predicted\": pred})\n",
    "df_pred_test.sample(10, random_state=1)"
   ]
  },
  {
   "cell_type": "code",
   "execution_count": 60,
   "metadata": {
    "colab": {
     "base_uri": "https://localhost:8080/",
     "height": 594
    },
    "id": "USIE8OYpJc7o",
    "outputId": "65b828cc-23ae-40da-e49d-86a836995a3f",
    "scrolled": false
   },
   "outputs": [
    {
     "data": {
      "image/png": "[encoded data removed]",
      "text/plain": [
       "<Figure size 1080x504 with 1 Axes>"
      ]
     },
     "metadata": {
      "needs_background": "light"
     },
     "output_type": "display_data"
    }
   ],
   "source": [
    "df1 = df_pred_test.sample(25, random_state=1)\n",
    "df1.plot(kind=\"bar\", figsize=(15, 7))\n",
    "plt.show()"
   ]
  },
  {
   "cell_type": "markdown",
   "metadata": {},
   "source": [
    "- The model returns a pretty good prediction."
   ]
  },
  {
   "cell_type": "code",
   "execution_count": 61,
   "metadata": {},
   "outputs": [
    {
     "name": "stdout",
     "output_type": "stream",
     "text": [
      "Training Performance\n",
      "\n"
     ]
    },
    {
     "data": {
      "text/html": [
       "<div>\n",
       "<style scoped>\n",
       "    .dataframe tbody tr th:only-of-type {\n",
       "        vertical-align: middle;\n",
       "    }\n",
       "\n",
       "    .dataframe tbody tr th {\n",
       "        vertical-align: top;\n",
       "    }\n",
       "\n",
       "    .dataframe thead th {\n",
       "        text-align: right;\n",
       "    }\n",
       "</style>\n",
       "<table border=\"1\" class=\"dataframe\">\n",
       "  <thead>\n",
       "    <tr style=\"text-align: right;\">\n",
       "      <th></th>\n",
       "      <th>RMSE</th>\n",
       "      <th>MAE</th>\n",
       "      <th>R-squared</th>\n",
       "      <th>Adj. R-squared</th>\n",
       "      <th>MAPE</th>\n",
       "    </tr>\n",
       "  </thead>\n",
       "  <tbody>\n",
       "    <tr>\n",
       "      <th>0</th>\n",
       "      <td>3.788223</td>\n",
       "      <td>2.869585</td>\n",
       "      <td>0.843498</td>\n",
       "      <td>0.841954</td>\n",
       "      <td>4.369148</td>\n",
       "    </tr>\n",
       "  </tbody>\n",
       "</table>\n",
       "</div>"
      ],
      "text/plain": [
       "       RMSE       MAE  R-squared  Adj. R-squared      MAPE\n",
       "0  3.788223  2.869585   0.843498        0.841954  4.369148"
      ]
     },
     "execution_count": 61,
     "metadata": {},
     "output_type": "execute_result"
    }
   ],
   "source": [
    "# checking model performance on train set\n",
    "print(\"Training Performance\\n\")\n",
    "olsmod2_train_perf = model_performance_regression(olsmod2, x_train5, y_train)\n",
    "olsmod2_train_perf"
   ]
  },
  {
   "cell_type": "code",
   "execution_count": 62,
   "metadata": {},
   "outputs": [
    {
     "name": "stdout",
     "output_type": "stream",
     "text": [
      "Test Performance\n",
      "\n"
     ]
    },
    {
     "data": {
      "text/html": [
       "<div>\n",
       "<style scoped>\n",
       "    .dataframe tbody tr th:only-of-type {\n",
       "        vertical-align: middle;\n",
       "    }\n",
       "\n",
       "    .dataframe tbody tr th {\n",
       "        vertical-align: top;\n",
       "    }\n",
       "\n",
       "    .dataframe thead th {\n",
       "        text-align: right;\n",
       "    }\n",
       "</style>\n",
       "<table border=\"1\" class=\"dataframe\">\n",
       "  <thead>\n",
       "    <tr style=\"text-align: right;\">\n",
       "      <th></th>\n",
       "      <th>RMSE</th>\n",
       "      <th>MAE</th>\n",
       "      <th>R-squared</th>\n",
       "      <th>Adj. R-squared</th>\n",
       "      <th>MAPE</th>\n",
       "    </tr>\n",
       "  </thead>\n",
       "  <tbody>\n",
       "    <tr>\n",
       "      <th>0</th>\n",
       "      <td>3.770886</td>\n",
       "      <td>2.854912</td>\n",
       "      <td>0.838908</td>\n",
       "      <td>0.835153</td>\n",
       "      <td>4.333436</td>\n",
       "    </tr>\n",
       "  </tbody>\n",
       "</table>\n",
       "</div>"
      ],
      "text/plain": [
       "       RMSE       MAE  R-squared  Adj. R-squared      MAPE\n",
       "0  3.770886  2.854912   0.838908        0.835153  4.333436"
      ]
     },
     "execution_count": 62,
     "metadata": {},
     "output_type": "execute_result"
    }
   ],
   "source": [
    "# checking model performance on test set\n",
    "print(\"Test Performance\\n\")\n",
    "olsmod2_test_perf = model_performance_regression(olsmod2, x_test5, y_test)\n",
    "olsmod2_test_perf"
   ]
  },
  {
   "cell_type": "markdown",
   "metadata": {
    "id": "h8CeR5BuqH-w"
   },
   "source": [
    "* The model is able to explain 84% of the variation in the data, which is very good.\n",
    "\n",
    "* RMSE and MAE in training set and test set are close, and they are all pretty low. The model performances pretty well.\n",
    "\n",
    "* The MAPE on the test set suggests we can predict within 4.3% of the life expectancy. \n",
    "\n",
    "* Overall the model *olsmod2* is good for prediction.\n",
    "\n",
    "**Let's compare this model to the initial model.**"
   ]
  },
  {
   "cell_type": "code",
   "execution_count": 63,
   "metadata": {},
   "outputs": [
    {
     "name": "stdout",
     "output_type": "stream",
     "text": [
      "Training performance comparison:\n"
     ]
    },
    {
     "data": {
      "text/html": [
       "<div>\n",
       "<style scoped>\n",
       "    .dataframe tbody tr th:only-of-type {\n",
       "        vertical-align: middle;\n",
       "    }\n",
       "\n",
       "    .dataframe tbody tr th {\n",
       "        vertical-align: top;\n",
       "    }\n",
       "\n",
       "    .dataframe thead th {\n",
       "        text-align: right;\n",
       "    }\n",
       "</style>\n",
       "<table border=\"1\" class=\"dataframe\">\n",
       "  <thead>\n",
       "    <tr style=\"text-align: right;\">\n",
       "      <th></th>\n",
       "      <th>Linear Regression (all variables)</th>\n",
       "      <th>Linear Regression (selected variables)</th>\n",
       "    </tr>\n",
       "  </thead>\n",
       "  <tbody>\n",
       "    <tr>\n",
       "      <th>RMSE</th>\n",
       "      <td>3.744400</td>\n",
       "      <td>3.788223</td>\n",
       "    </tr>\n",
       "    <tr>\n",
       "      <th>MAE</th>\n",
       "      <td>2.832731</td>\n",
       "      <td>2.869585</td>\n",
       "    </tr>\n",
       "    <tr>\n",
       "      <th>R-squared</th>\n",
       "      <td>0.847098</td>\n",
       "      <td>0.843498</td>\n",
       "    </tr>\n",
       "    <tr>\n",
       "      <th>Adj. R-squared</th>\n",
       "      <td>0.845132</td>\n",
       "      <td>0.841954</td>\n",
       "    </tr>\n",
       "    <tr>\n",
       "      <th>MAPE</th>\n",
       "      <td>4.308428</td>\n",
       "      <td>4.369148</td>\n",
       "    </tr>\n",
       "  </tbody>\n",
       "</table>\n",
       "</div>"
      ],
      "text/plain": [
       "                Linear Regression (all variables)  \\\n",
       "RMSE                                     3.744400   \n",
       "MAE                                      2.832731   \n",
       "R-squared                                0.847098   \n",
       "Adj. R-squared                           0.845132   \n",
       "MAPE                                     4.308428   \n",
       "\n",
       "                Linear Regression (selected variables)  \n",
       "RMSE                                          3.788223  \n",
       "MAE                                           2.869585  \n",
       "R-squared                                     0.843498  \n",
       "Adj. R-squared                                0.841954  \n",
       "MAPE                                          4.369148  "
      ]
     },
     "execution_count": 63,
     "metadata": {},
     "output_type": "execute_result"
    }
   ],
   "source": [
    "models_train_comp_df = pd.concat(\n",
    "    [olsmodel_train_perf.T, olsmod2_train_perf.T],\n",
    "    axis=1,\n",
    ")\n",
    "\n",
    "models_train_comp_df.columns = [\n",
    "    \"Linear Regression (all variables)\",\n",
    "    \"Linear Regression (selected variables)\",\n",
    "]\n",
    "\n",
    "print(\"Training performance comparison:\")\n",
    "models_train_comp_df"
   ]
  },
  {
   "cell_type": "code",
   "execution_count": 64,
   "metadata": {},
   "outputs": [
    {
     "name": "stdout",
     "output_type": "stream",
     "text": [
      "Test performance comparison:\n"
     ]
    },
    {
     "data": {
      "text/html": [
       "<div>\n",
       "<style scoped>\n",
       "    .dataframe tbody tr th:only-of-type {\n",
       "        vertical-align: middle;\n",
       "    }\n",
       "\n",
       "    .dataframe tbody tr th {\n",
       "        vertical-align: top;\n",
       "    }\n",
       "\n",
       "    .dataframe thead th {\n",
       "        text-align: right;\n",
       "    }\n",
       "</style>\n",
       "<table border=\"1\" class=\"dataframe\">\n",
       "  <thead>\n",
       "    <tr style=\"text-align: right;\">\n",
       "      <th></th>\n",
       "      <th>Linear Regression (all variables)</th>\n",
       "      <th>Linear Regression (selected variables)</th>\n",
       "    </tr>\n",
       "  </thead>\n",
       "  <tbody>\n",
       "    <tr>\n",
       "      <th>RMSE</th>\n",
       "      <td>3.730845</td>\n",
       "      <td>3.770886</td>\n",
       "    </tr>\n",
       "    <tr>\n",
       "      <th>MAE</th>\n",
       "      <td>2.820497</td>\n",
       "      <td>2.854912</td>\n",
       "    </tr>\n",
       "    <tr>\n",
       "      <th>R-squared</th>\n",
       "      <td>0.842311</td>\n",
       "      <td>0.838908</td>\n",
       "    </tr>\n",
       "    <tr>\n",
       "      <th>Adj. R-squared</th>\n",
       "      <td>0.837499</td>\n",
       "      <td>0.835153</td>\n",
       "    </tr>\n",
       "    <tr>\n",
       "      <th>MAPE</th>\n",
       "      <td>4.280578</td>\n",
       "      <td>4.333436</td>\n",
       "    </tr>\n",
       "  </tbody>\n",
       "</table>\n",
       "</div>"
      ],
      "text/plain": [
       "                Linear Regression (all variables)  \\\n",
       "RMSE                                     3.730845   \n",
       "MAE                                      2.820497   \n",
       "R-squared                                0.842311   \n",
       "Adj. R-squared                           0.837499   \n",
       "MAPE                                     4.280578   \n",
       "\n",
       "                Linear Regression (selected variables)  \n",
       "RMSE                                          3.770886  \n",
       "MAE                                           2.854912  \n",
       "R-squared                                     0.838908  \n",
       "Adj. R-squared                                0.835153  \n",
       "MAPE                                          4.333436  "
      ]
     },
     "execution_count": 64,
     "metadata": {},
     "output_type": "execute_result"
    }
   ],
   "source": [
    "models_test_comp_df = pd.concat(\n",
    "    [olsmodel_test_perf.T, olsmod2_test_perf.T],\n",
    "    axis=1,\n",
    ")\n",
    "\n",
    "models_test_comp_df.columns = [\n",
    "    \"Linear Regression (all variables)\",\n",
    "    \"Linear Regression (selected variables)\",\n",
    "]\n",
    "\n",
    "print(\"Test performance comparison:\")\n",
    "models_test_comp_df"
   ]
  },
  {
   "cell_type": "markdown",
   "metadata": {},
   "source": [
    "* The performance of the two models is close to each other.\n",
    "\n",
    "**Let's create the final statsmodels model and print it's summary to gain insights.**"
   ]
  },
  {
   "cell_type": "code",
   "execution_count": 65,
   "metadata": {
    "id": "XDZD9zkmqH-x",
    "outputId": "35e8c5ae-b9af-4b42-c7bb-c7070b4391e5"
   },
   "outputs": [
    {
     "name": "stdout",
     "output_type": "stream",
     "text": [
      "                            OLS Regression Results                            \n",
      "==============================================================================\n",
      "Dep. Variable:        Life expectancy   R-squared:                       0.843\n",
      "Model:                            OLS   Adj. R-squared:                  0.842\n",
      "Method:                 Least Squares   F-statistic:                     575.6\n",
      "Date:                Sun, 05 Mar 2023   Prob (F-statistic):               0.00\n",
      "Time:                        17:28:07   Log-Likelihood:                -5636.5\n",
      "No. Observations:                2049   AIC:                         1.131e+04\n",
      "Df Residuals:                    2029   BIC:                         1.143e+04\n",
      "Df Model:                          19                                         \n",
      "Covariance Type:            nonrobust                                         \n",
      "===================================================================================================\n",
      "                                      coef    std err          t      P>|t|      [0.025      0.975]\n",
      "---------------------------------------------------------------------------------------------------\n",
      "const                             -23.1832     39.635     -0.585      0.559    -100.913      54.547\n",
      "Year                                0.0395      0.020      1.994      0.046       0.001       0.078\n",
      "Adult Mortality                    -0.0162      0.001    -17.819      0.000      -0.018      -0.014\n",
      "Alcohol                            -0.0801      0.033     -2.395      0.017      -0.146      -0.015\n",
      "Percentage expenditure              0.0003   4.96e-05      6.128      0.000       0.000       0.000\n",
      "Hepatitis B                        -0.0163      0.004     -3.821      0.000      -0.025      -0.008\n",
      "BMI                                 0.0346      0.006      5.860      0.000       0.023       0.046\n",
      "Under-five deaths                  -0.0023      0.001     -3.794      0.000      -0.004      -0.001\n",
      "Polio                               0.0346      0.005      6.960      0.000       0.025       0.044\n",
      "Diphtheria                          0.0344      0.005      6.688      0.000       0.024       0.045\n",
      "HIV/AIDS                           -0.3813      0.020    -18.604      0.000      -0.422      -0.341\n",
      "Thinness 5-9 years                 -0.0777      0.029     -2.669      0.008      -0.135      -0.021\n",
      "Income composition of resources     4.5468      0.721      6.302      0.000       3.132       5.962\n",
      "Schooling                           0.6184      0.048     12.789      0.000       0.524       0.713\n",
      "Status_Developing                  -2.6234      0.353     -7.442      0.000      -3.315      -1.932\n",
      "Continent_Asia                      4.7406      0.281     16.862      0.000       4.189       5.292\n",
      "Continent_Europe                    4.3902      0.411     10.694      0.000       3.585       5.195\n",
      "Continent_North America             6.2753      0.360     17.417      0.000       5.569       6.982\n",
      "Continent_Oceania                   2.7757      0.456      6.089      0.000       1.882       3.670\n",
      "Continent_South America             4.4261      0.440     10.062      0.000       3.563       5.289\n",
      "==============================================================================\n",
      "Omnibus:                       80.001   Durbin-Watson:                   2.014\n",
      "Prob(Omnibus):                  0.000   Jarque-Bera (JB):              214.140\n",
      "Skew:                          -0.138   Prob(JB):                     3.16e-47\n",
      "Kurtosis:                       4.559   Cond. No.                     1.14e+06\n",
      "==============================================================================\n",
      "\n",
      "Notes:\n",
      "[1] Standard Errors assume that the covariance matrix of the errors is correctly specified.\n",
      "[2] The condition number is large, 1.14e+06. This might indicate that there are\n",
      "strong multicollinearity or other numerical problems.\n"
     ]
    }
   ],
   "source": [
    "olsmodel_final = sm.OLS(y_train, x_train5).fit()\n",
    "print(olsmodel_final.summary())"
   ]
  },
  {
   "cell_type": "markdown",
   "metadata": {},
   "source": [
    "### Insights\n",
    "\n",
    "1. Mortality rates (`Under_five_deaths` and `Adult_mortality`) come out to be very significant, as expected. As these two increase, the total life expectancy decreases.\n",
    "\n",
    "\n",
    "2. 1 unit increase in per capita consumption of pure alcohol (in liters) leads to a decrease in life expectancy by 0.0801 years (~29 days).\n",
    "\n",
    "\n",
    "3. Diseases like `Hepatitis_B` and `HIV_AIDS` decrease the life expectancy.\n",
    "\n",
    "\n",
    "4. Developing countries tend to have 2.6 years less life expectancy compared to developed countries.\n",
    "\n",
    "\n",
    "5. People from Asia, Europe, North America, South America, and Oceania have a higher life expectancy than people of Africa.\n",
    "\n",
    "\n",
    "6. `Year`, `Percentage_expenditure`, `Polio`, `Diptheria`, `Income  composition of resources`, and `Schooling` have positive coefficients. So, as they increase, life expectancy also increases."
   ]
  },
  {
   "cell_type": "code",
   "execution_count": null,
   "metadata": {},
   "outputs": [],
   "source": []
  }
 ],
 "metadata": {
  "colab": {
   "collapsed_sections": [],
   "name": "DSBA_SLF_MLS1_LifeExpectancyCaseStudy.ipynb",
   "provenance": []
  },
  "kernelspec": {
   "display_name": "Python 3",
   "language": "python",
   "name": "python3"
  },
  "language_info": {
   "codemirror_mode": {
    "name": "ipython",
    "version": 3
   },
   "file_extension": ".py",
   "mimetype": "text/x-python",
   "name": "python",
   "nbconvert_exporter": "python",
   "pygments_lexer": "ipython3",
   "version": "3.8.8"
  }
 },
 "nbformat": 4,
 "nbformat_minor": 1
}
